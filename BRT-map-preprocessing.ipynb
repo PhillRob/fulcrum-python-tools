{
 "cells": [
  {
   "cell_type": "markdown",
   "metadata": {
    "id": "a1VmA54aBrJF"
   },
   "source": [
    "# Set up the environment\n",
    "1. Install the necessary libraries\n",
    "2. Authenticate with GEE"
   ]
  },
  {
   "cell_type": "code",
   "execution_count": 2,
   "metadata": {
    "colab": {
     "base_uri": "https://localhost:8080/"
    },
    "id": "16B1BOpKBZbJ",
    "outputId": "67c611ad-a78c-4341-b599-1b9c00c8f3c8",
    "ExecuteTime": {
     "end_time": "2023-09-20T15:59:31.297289Z",
     "start_time": "2023-09-20T15:59:31.205025Z"
    }
   },
   "outputs": [],
   "source": [
    "# !pip install geopandas\n",
    "# !pip install rasterio\n",
    "# !pip install fulcrum\n",
    "# !pip install rasterstats\n",
    "# !pip install StringIO\n",
    "# !pip install ee\n",
    "# !pip install earthengine-api --upgrade\n",
    "# !pip install importlib\n",
    "# !pip install open_clip_torch\n",
    "# !pip install contextily"
   ]
  },
  {
   "cell_type": "code",
   "execution_count": 0,
   "outputs": [],
   "source": [
    "from io import StringIO\n",
    "import requests, zipfile, io\n",
    "import contextily as ctx\n",
    "from matplotlib_scalebar.scalebar import ScaleBar\n",
    "import shapely.geometry\n",
    "import matplotlib.pyplot as plt\n",
    "import matplotlib.colors as colors\n",
    "import json\n",
    "import reportlab\n",
    "from reportlab.lib.pagesizes import A4\n",
    "from reportlab.lib.pagesizes import letter\n",
    "from reportlab.pdfgen import canvas\n",
    "import math\n",
    "import warnings\n",
    "from datetime import datetime, timedelta\n",
    "import ee  # import Google earth engine module\n",
    "import geopandas as gpd\n",
    "import numpy as np\n",
    "import pandas as pd\n",
    "import rasterio\n",
    "from fulcrum import Fulcrum\n",
    "from rasterio.transform import from_origin\n",
    "from rasterstats import zonal_stats"
   ],
   "metadata": {
    "collapsed": false
   }
  },
  {
   "cell_type": "code",
   "execution_count": 111,
   "outputs": [],
   "source": [
    "\n",
    "# Authenticate the Google Earth engine with Google account\n",
    "# First setup only, no need to run this after first run\n",
    "# ee.Authenticate()\n",
    "ee.Initialize()\n",
    "# warnings.filterwarnings('ignore')"
   ],
   "metadata": {
    "collapsed": false,
    "ExecuteTime": {
     "end_time": "2023-09-21T08:23:01.901731Z",
     "start_time": "2023-09-21T08:22:57.892642Z"
    }
   }
  },
  {
   "cell_type": "code",
   "execution_count": 4,
   "metadata": {
    "id": "FixFZX70c-7y",
    "ExecuteTime": {
     "end_time": "2023-09-20T15:59:55.666901Z",
     "start_time": "2023-09-20T15:59:55.659088Z"
    }
   },
   "outputs": [],
   "source": [
    "with open(\"credentials.json\") as c:\n",
    "\tcredentials = json.load(c)\n",
    "\n",
    "fulcrum = Fulcrum(key=credentials['fulcrum_api'])"
   ]
  },
  {
   "cell_type": "code",
   "execution_count": 36,
   "outputs": [],
   "source": [
    "# todo: add project name and use throughout the file\n",
    "projectName = ['BRT'] "
   ],
   "metadata": {
    "collapsed": false,
    "ExecuteTime": {
     "end_time": "2023-09-20T16:18:05.201095Z",
     "start_time": "2023-09-20T16:18:05.160182Z"
    }
   }
  },
  {
   "cell_type": "code",
   "execution_count": 6,
   "outputs": [],
   "source": [
    "formData = fulcrum.forms.find(credentials['TMO_TI_form'])\n",
    "\n",
    "recordCount = formData['form']['record_count']\n",
    "pages = math.ceil(recordCount / 5000)\n",
    "# way cleaner than my script. Thanks!\n",
    "data = []\n",
    "for p in range(1, pages + 1):\n",
    "\tdataPage = fulcrum.records.search(\n",
    "\t\turl_params={'form_id': credentials['TMO_TI_form'], 'page': p, 'per_page': 5000})['records']\n",
    "\tdata.extend(dataPage)"
   ],
   "metadata": {
    "collapsed": false,
    "ExecuteTime": {
     "end_time": "2023-09-20T16:06:44.179576Z",
     "start_time": "2023-09-20T15:59:57.152557Z"
    }
   }
  },
  {
   "cell_type": "code",
   "execution_count": 7,
   "metadata": {
    "id": "GDxUnZxbHhc_",
    "colab": {
     "base_uri": "https://localhost:8080/",
     "height": 36
    },
    "outputId": "dbf7d970-7abb-4eba-e216-791696129f70",
    "ExecuteTime": {
     "end_time": "2023-09-20T16:06:46.104705Z",
     "start_time": "2023-09-20T16:06:44.224733Z"
    }
   },
   "outputs": [],
   "source": [
    "df = pd.DataFrame(data)\n",
    "dups = df[df.duplicated(subset=['latitude','longitude'],keep='first')]"
   ]
  },
  {
   "cell_type": "code",
   "execution_count": 8,
   "outputs": [],
   "source": [
    "# simplify data and un-nest values from json. Add all trees without spread get a 10m value.\n",
    "for record in data:\n",
    "\tif 'f6ef' in record['form_values']:\n",
    "\t\trecord['health'] = ''.join(record['form_values']['f6ef']['choice_values'])\n",
    "\telse:\n",
    "\t\trecord['health'] = 'NaN'\n",
    "\n",
    "\tif '0a3e' in record['form_values']:\n",
    "\t\trecord['structure'] = ''.join(record['form_values']['0a3e']['choice_values'])\n",
    "\telse:\n",
    "\t\trecord['structure'] = 'NaN'\n",
    "\n",
    "\tif '009b' in record['form_values']:\n",
    "\t\trecord['height'] = ''.join(record['form_values']['009b'])\n",
    "\telse:\n",
    "\t\trecord['height'] = 'NaN'\n",
    "\n",
    "\tif '7a77' in record['form_values']:\n",
    "\t\trecord['DBH'] = ''.join(record['form_values']['7a77'])\n",
    "\telse:\n",
    "\t\trecord['DBH'] = 'NaN'\n",
    "\n",
    "\tif '6e5e' in record['form_values']:\n",
    "\t\trecord['source'] = ''.join(record['form_values']['6e5e']['choice_values'])\n",
    "\telse:\n",
    "\t\trecord['source'] = 'NaN'\n",
    "\n",
    "\tif 'b96d' in record['form_values']:\n",
    "\t\trecord['spread'] = ''.join(record['form_values']['b96d'])\n",
    "\telse:\n",
    "\t\trecord['spread'] = '7'\n",
    "\n",
    "\tif '3fee' in record['form_values']:\n",
    "\t\trecord['species'] = ''.join(record['form_values']['3fee']['choice_values'])\n",
    "\telse:\n",
    "\t\trecord['species'] = 'No Name - لا يوجد اسم'\n",
    "\t# genus \n",
    "\trecord['genus'] = record['species'].split(' ')[0]\n",
    "\tif record['genus'] in ['no', '', 'No']:\n",
    "\t\trecord['genus'] = 'No name'\n",
    "\n",
    "\t# class\n",
    "\tif record['genus'] in ['Phoenix', 'Washingtonia']:\n",
    "\t\trecord['Class'] = 'Palm'\n",
    "\telif record['genus'] == 'No name':\n",
    "\t\trecord['Class'] = 'Not identified'\n",
    "\telse:\n",
    "\t\trecord['Class'] = 'Shade'\n",
    "\n",
    "\t# select dead and missing from inventory and lable them future trees\n",
    "\tif record['status'] in ['Missing tree - لا يوجد شجرة', 'Dead tree - شجرة ميتة', 'Plant tree - ازرع شجرة']:\n",
    "\t\trecord['existing'] = 'no'\n",
    "\telse:\n",
    "\t\trecord['existing'] = 'yes'\n",
    "\n",
    "\t# remove arabic strings can also be done with split string for the entire data set instead of hardcoding stuff\n",
    "\trecord['status'] = record['status'].split(' - ')[0]\n",
    "\n",
    "\t# if record['status'] == 'No action required - لا حاجة لأي إجراء':\n",
    "\t# \trecord['status'] = 'No action required'\n",
    "\t# elif record['status'] == 'Request of activation - طلب تفعيل':\n",
    "\t# \trecord['status'] = 'Request of activation'\n",
    "\t# elif record['status'] == 'Request of inspection (RFI) - طلب معاينة':\n",
    "\t# \trecord['status'] = 'Request of inspection'\n",
    "\t# elif record['status'] == 'Escalation issue - قضية تصعيد':\n",
    "\t# \trecord['status'] = 'Escalation issue'\n",
    "\t# else:\n",
    "\t# \trecord['status'] = 'Issue in place'\n",
    "\n",
    "# '''\n",
    "# if record['genus'] in ['Phoenix', 'Washingtonia', 'Acacia', '', '','']:\n",
    "#         record['Type'] = 'Tree'\n",
    "#     else:\n",
    "#         record['Type'] = 'Shrubs'\n",
    "# '''\n"
   ],
   "metadata": {
    "collapsed": false,
    "ExecuteTime": {
     "end_time": "2023-09-20T16:06:46.920830Z",
     "start_time": "2023-09-20T16:06:46.103209Z"
    }
   }
  },
  {
   "cell_type": "code",
   "execution_count": 9,
   "metadata": {
    "id": "7oMXp5FG0Qn0",
    "ExecuteTime": {
     "end_time": "2023-09-20T16:07:09.399377Z",
     "start_time": "2023-09-20T16:06:46.962422Z"
    }
   },
   "outputs": [],
   "source": [
    "# get unique project IDs in a list\n",
    "projectList = list()\n",
    "for record in data:\n",
    "\tprojectId = record['project_id']\n",
    "\tif projectId not in projectList:\n",
    "\t\tprojectList.append(projectId)\n",
    "\n",
    "# create dict with matching names\n",
    "result = {}\n",
    "for i in projectList:\n",
    "\ttry:\n",
    "\t\tprojectInfo = fulcrum.projects.find(i)['project']\n",
    "\t\tresult[i] = projectInfo['name']\n",
    "\texcept:\n",
    "\t\tresult[i] = 'Unknown Project'\n",
    "\n",
    "# add project names to org data\n",
    "for record in data:\n",
    "\trecord['project'] = result.get(record['project_id'], 'Unknown')"
   ]
  },
  {
   "cell_type": "code",
   "execution_count": 10,
   "metadata": {
    "id": "9bsQuhMCmONz",
    "ExecuteTime": {
     "end_time": "2023-09-20T16:07:11.755139Z",
     "start_time": "2023-09-20T16:07:09.417290Z"
    }
   },
   "outputs": [],
   "source": [
    "df = pd.DataFrame(data)\n",
    "df.drop(columns=['id', 'form_id', 'created_by_id', 'version', 'id', 'created_at', 'updated_at',\n",
    "                 'created_by', 'assigned_to_id', 'altitude', 'speed', 'course', 'horizontal_accuracy',\n",
    "                 'vertical_accuracy', 'updated_by', 'updated_by_id', 'created_location', 'updated_location',\n",
    "                 'created_duration', 'updated_duration', 'edited_duration', 'project_id', 'record_series_id',\n",
    "                 'assigned_to', 'form_values'], axis=1, inplace=True)\n",
    "\n",
    "inventory = gpd.GeoDataFrame(df, geometry=gpd.points_from_xy(df.longitude, df.latitude))\n",
    "inventory.crs = 'EPSG:4326'\n",
    "inventory = inventory.to_crs(32638)\n",
    "inventory.drop_duplicates(['geometry'], inplace=True)"
   ]
  },
  {
   "cell_type": "code",
   "execution_count": null,
   "outputs": [],
   "source": [
    "# inventory['dups']=inventory.duplicated(['geometry'],'first')\n",
    "# inventory.value_counts(['dups'])\n",
    "# inventory.plot('dups', 'coolwarm_r', markersize=1,figsize=[10,10])\n",
    "# inventory.to_file(r\"/Users/philipp/Downloads/dups.gpkg\", driver='GPKG', layer='TMO_dups')"
   ],
   "metadata": {
    "collapsed": false
   }
  },
  {
   "cell_type": "code",
   "execution_count": null,
   "outputs": [],
   "source": [
    "# filter by project"
   ],
   "metadata": {
    "collapsed": false
   }
  },
  {
   "cell_type": "code",
   "execution_count": 49,
   "outputs": [],
   "source": [
    "projectInventory =inventory[inventory['project'].str.contains('BRT', na = False)]"
   ],
   "metadata": {
    "collapsed": false,
    "ExecuteTime": {
     "end_time": "2023-09-20T16:25:22.100859Z",
     "start_time": "2023-09-20T16:25:21.753916Z"
    }
   }
  },
  {
   "cell_type": "code",
   "execution_count": 0,
   "outputs": [],
   "source": [
    "projectBbox32638 = gpd.GeoDataFrame(geometry=pd.DataFrame(projectInventory.buffer(100).envelope).values.flatten(),\n",
    "                                    crs=32637)"
   ],
   "metadata": {
    "collapsed": false
   }
  },
  {
   "cell_type": "code",
   "execution_count": 0,
   "outputs": [],
   "source": [
    "minx, miny, maxx, maxy = projectInventory.geometry.total_bounds"
   ],
   "metadata": {
    "collapsed": false
   }
  },
  {
   "cell_type": "code",
   "execution_count": 76,
   "outputs": [
    {
     "data": {
      "text/plain": "array([ 664464.94864397, 2714710.45996134,  684827.11332321,\n       2749206.85341744])"
     },
     "execution_count": 76,
     "metadata": {},
     "output_type": "execute_result"
    }
   ],
   "source": [
    "projectInventory.geometry.total_bounds"
   ],
   "metadata": {
    "collapsed": false,
    "ExecuteTime": {
     "end_time": "2023-09-21T07:50:31.463387Z",
     "start_time": "2023-09-21T07:50:31.395282Z"
    }
   }
  },
  {
   "cell_type": "code",
   "execution_count": 52,
   "outputs": [
    {
     "name": "stderr",
     "output_type": "stream",
     "text": [
      "/Users/philipp/Projects/PycharmProjects/fulcrum-python-tools/venv/lib/python3.9/site-packages/geopandas/geodataframe.py:1538: SettingWithCopyWarning: \n",
      "A value is trying to be set on a copy of a slice from a DataFrame.\n",
      "Try using .loc[row_indexer,col_indexer] = value instead\n",
      "\n",
      "See the caveats in the documentation: https://pandas.pydata.org/pandas-docs/stable/user_guide/indexing.html#returning-a-view-versus-a-copy\n",
      "  super().__setitem__(key, value)\n"
     ]
    }
   ],
   "source": [
    "# Canopy spread\n",
    "projectInventory['spread'] = projectInventory.spread.astype(str).astype(float)\n",
    "\n",
    "projectInventory.loc[projectInventory['spread'] < 7, 'spread'] = 7\n",
    "projectInventory.loc[projectInventory['spread'].isna(), 'spread'] = 7\n",
    "projectInventory.reset_index(inplace=True, drop=True)\n",
    "\n",
    "# Create a buffer per point\n",
    "projectInventory.loc[projectInventory.geometry.type == 'Point', 'geometry'] = projectInventory.buffer(\n",
    "\t(projectInventory['spread'] / 2))\n",
    "\n",
    "projectInventoryDis = projectInventory.dissolve()\n",
    "projectInventoryDis['canopyArea_m2'] = projectInventoryDis.area\n",
    "\n",
    "# Calculate the sum of areas\n",
    "canopyArea = sum(projectInventoryDis['canopyArea_m2'])\n",
    "# projectArea = projectBoundarygdf.area"
   ],
   "metadata": {
    "collapsed": false,
    "ExecuteTime": {
     "end_time": "2023-09-20T16:25:45.076025Z",
     "start_time": "2023-09-20T16:25:40.734721Z"
    }
   }
  },
  {
   "cell_type": "code",
   "execution_count": 0,
   "outputs": [],
   "source": [
    "from shapely.geometry import box\n",
    "  \n",
    "# total bounds of the projectInventory       \n",
    "xmin,ymin,xmax,ymax =  projectInventory.total_bounds\n",
    "print(xmin,ymin,xmax,ymax)\n",
    "\n",
    "# convert to polygon\n",
    "geom = box(*projectInventory.total_bounds)"
   ],
   "metadata": {
    "collapsed": false
   }
  },
  {
   "cell_type": "code",
   "execution_count": 118,
   "outputs": [],
   "source": [
    "# make GEE feature collection from buffered project boundary bounding box\n",
    "gdf = gpd.GeoDataFrame(index=[0], crs='epsg:32637', geometry=[geom])\n",
    "projectBbox32637=gdf.buffer(100)\n",
    "projectBbox32637 = projectBbox32637.to_crs(4326).to_json()\n",
    "projectBbox32637 = ee.FeatureCollection(json.loads(projectBbox32637))"
   ],
   "metadata": {
    "collapsed": false,
    "ExecuteTime": {
     "end_time": "2023-09-21T08:27:29.490760Z",
     "start_time": "2023-09-21T08:27:29.452117Z"
    }
   }
  },
  {
   "cell_type": "code",
   "execution_count": 122,
   "outputs": [],
   "source": [
    "gdf = gpd.GeoDataFrame(index=[0], crs='epsg:32637', geometry=[geom])\n",
    "project4326 = gdf.to_crs(4326).to_json()\n",
    "project4326 = ee.FeatureCollection(json.loads(project4326))"
   ],
   "metadata": {
    "collapsed": false,
    "ExecuteTime": {
     "end_time": "2023-09-21T08:29:21.752513Z",
     "start_time": "2023-09-21T08:29:21.710230Z"
    }
   }
  },
  {
   "cell_type": "code",
   "execution_count": 125,
   "outputs": [],
   "source": [
    "spread=projectInventory.copy()"
   ],
   "metadata": {
    "collapsed": false,
    "ExecuteTime": {
     "end_time": "2023-09-21T08:39:10.382181Z",
     "start_time": "2023-09-21T08:39:10.328670Z"
    }
   }
  },
  {
   "cell_type": "code",
   "execution_count": null,
   "outputs": [],
   "source": [
    "######################## set time frame\n",
    "today = (datetime.today() - timedelta(days=1)).strftime(\"%Y-%m-%d\")  # number of days as a delimiter\n",
    "before = (datetime.today() - timedelta(days=20)).strftime(\"%Y-%m-%d\")  # number of days as a delimiter\n",
    "# days_in_interval = today - before\n",
    "# days_in_interval = 20\n",
    "\n",
    "# get Sentinel data\n",
    "collection = (ee.ImageCollection('COPERNICUS/S2_HARMONIZED')\n",
    "              .filterDate(before, today)\n",
    "              .filterBounds(project4326.geometry())\n",
    "              .map(lambda image: image.clip(project4326.geometry()))\n",
    "              .filter(ee.Filter.lt('CLOUDY_PIXEL_PERCENTAGE', 1))\n",
    "              .map(lambda image: image.normalizedDifference(['B8', 'B4']).rename('ndvi'))\n",
    "              )\n",
    "x1 = str(projectBbox32638.geometry().getInfo()['coordinates'][0][0]).strip(\"[]\").split(',')[0]\n",
    "y1 = str(projectBbox32638.geometry().getInfo()['coordinates'][0][1]).strip(\"[]\").split(',')[1]\n",
    "transform = from_origin(float(x1), float(y1), 10, 10)"
   ],
   "metadata": {
    "collapsed": false,
    "ExecuteTime": {
     "end_time": "2023-09-21T08:31:05.835706Z",
     "start_time": "2023-09-21T08:31:05.830848Z"
    }
   }
  },
  {
   "cell_type": "code",
   "execution_count": 147,
   "outputs": [],
   "source": [
    "imgFirst = collection.limit(1, 'system:index').first()\n",
    "imgLast = collection.limit(1, 'system:index', False).first()\n",
    "\n",
    "#downloading the images\n",
    "r = requests.get(imgFirst.getDownloadURL({\n",
    "\t'name': 'imgFirst-' + imgFirst.getInfo()['properties']['system:index'].split(\"T\")[0],\n",
    "\t# 'region': str(projectBbox4326.geometry()),\n",
    "\t# 'dimensions': str(imgFirst.getInfo()['bands'][0]['dimensions'][0])+\"x\"+str(imgFirst.getInfo()['bands'][0]['dimensions'][1])\n",
    "}))\n",
    "#unzip it to the selected directory\n",
    "z = zipfile.ZipFile(io.BytesIO(r.content))\n",
    "z.extractall('SentinelData')\n",
    "\n",
    "r = requests.get(imgLast.getDownloadURL({\n",
    "\t'name': 'imgLast-' + imgLast.getInfo()['properties']['system:index'].split(\"T\")[0],\n",
    "\t# 'region': str(projectBbox4326.geometry()),\n",
    "\t# 'dimensions': str(imgFirst.getInfo()['bands'][0]['dimensions'][0])+\"x\"+str(imgFirst.getInfo()['bands'][0]['dimensions'][1])\n",
    "}))\n",
    "#unzip it to the selected directory\n",
    "z = zipfile.ZipFile(io.BytesIO(r.content))\n",
    "\n",
    "z.extractall('SentinelData')"
   ],
   "metadata": {
    "collapsed": false,
    "ExecuteTime": {
     "end_time": "2023-09-21T08:56:19.623463Z",
     "start_time": "2023-09-21T08:55:37.442122Z"
    }
   }
  },
  {
   "cell_type": "code",
   "execution_count": 148,
   "outputs": [],
   "source": [
    "########### process first image\n",
    "with rasterio.open(\"SentinelData/imgFirst-\" +imgFirst.getInfo()[\"properties\"]['system:index'].split(\"T\")[0]+\".ndvi.tif\") as src:\n",
    "\taffine = src.transform\n",
    "\tndval = src.nodatavals[0]\n",
    "\tarray = src.read(1)\n",
    "\tarray = array.astype('float64')\n",
    "\tarray[array == ndval] = np.nan\n",
    "\tdf_zonal_stats = pd.DataFrame(\n",
    "\t\tzonal_stats(spread, array, stats='max', affine=affine, nodata=-99999999, all_touched=True))\n",
    "\n",
    "# adding statistics back to original GeoDataFrame\n",
    "imgResults = pd.concat([spread, df_zonal_stats], axis=1)\n",
    "\n",
    "############# NDVI health\n",
    "imgResults.loc[(imgResults['max'] >= 0.5), 'ndvi_health_cat'] = 'good - جيد'\n",
    "imgResults.loc[(imgResults['max'] >= 0.3) & (imgResults['max'] < 0.5), 'ndvi_health_cat'] = 'fair - معتدل'\n",
    "imgResults.loc[(imgResults['max'] > 0.2) & (imgResults['max'] < 0.3), 'ndvi_health_cat'] = 'poor - سئ'\n",
    "imgResults.loc[(imgResults['max'] <= 0.2), 'ndvi_health_cat'] = 'dead - ميت'\n",
    "imgResults.rename(\n",
    "\tcolumns={'ndvi_health_cat': 'ndvi_health_cat' + imgFirst.getInfo()['properties']['system:index'].split(\"T\")[0]},\n",
    "\tinplace=True)\n",
    "\n",
    "imgResults.loc[(imgResults['max'] >= 0.2), 'ndvi_health'] = 1\n",
    "imgResults.loc[(imgResults['max'] < 0.2), 'ndvi_health'] = 0\n",
    "\n",
    "imgResults.rename(\n",
    "\tcolumns={'ndvi_health': 'ndvi_health_' + imgFirst.getInfo()['properties']['system:index'].split(\"T\")[0]},\n",
    "\tinplace=True)\n",
    "imgResults.rename(columns={'max': 'max_' + imgFirst.getInfo()['properties']['system:index'].split(\"T\")[0]},inplace=True)"
   ],
   "metadata": {
    "collapsed": false,
    "ExecuteTime": {
     "end_time": "2023-09-21T08:57:26.623973Z",
     "start_time": "2023-09-21T08:57:13.756837Z"
    }
   }
  },
  {
   "cell_type": "code",
   "execution_count": 149,
   "outputs": [
    {
     "name": "stdout",
     "output_type": "stream",
     "text": [
      "health_merge\n",
      "dead - ميت      6349\n",
      "Name: count, dtype: int64\n",
      "health_merge\n",
      "False           6349\n",
      "Name: count, dtype: int64\n"
     ]
    }
   ],
   "source": [
    "############# process last image\n",
    "with rasterio.open(\"SentinelData/imgLast-\" +imgLast.getInfo()[\"properties\"]['system:index'].split(\"T\")[0]+\".ndvi.tif\") as src:\n",
    "\taffine = src.transform\n",
    "\tndval = src.nodatavals[0]\n",
    "\tarray = src.read(1)\n",
    "\tarray = array.astype('float64')\n",
    "\tarray[array == ndval] = np.nan\n",
    "\tdf_zonal_stats = pd.DataFrame(\n",
    "\t\tzonal_stats(spread, array, stats='max', affine=affine, nodata=-99999999, all_touched=True))\n",
    "\n",
    "# adding statistics back to original GeoDataFrame\n",
    "imgResults = pd.concat([imgResults, df_zonal_stats], axis=1)\n",
    "################ NDVI health (new categories due to very negative results, violoating the 0.2 threshold)\n",
    "imgResults.loc[(imgResults['max'] >= 0.5), 'ndvi_health_cat'] = 'good - جيد'\n",
    "imgResults.loc[(imgResults['max'] >= 0.3) & (imgResults['max'] < 0.5), 'ndvi_health_cat'] = 'fair - معتدل'\n",
    "imgResults.loc[(imgResults['max'] > 0.2) & (imgResults['max'] < 0.3), 'ndvi_health_cat'] = 'poor - سئ'\n",
    "imgResults.loc[(imgResults['max'] <= 0.2), 'ndvi_health_cat'] = 'dead - ميت'\n",
    "\n",
    "imgResults.rename(\n",
    "\tcolumns={'ndvi_health_cat': 'ndvi_health_cat' + imgLast.getInfo()['properties']['system:index'].split(\"T\")[0]},\n",
    "\tinplace=True)\n",
    "imgResults.loc[(imgResults['max'] >= 0.2), 'ndvi_health'] = 1\n",
    "imgResults.loc[(imgResults['max'] < 0.2), 'ndvi_health'] = 0\n",
    "\n",
    "imgResults.rename(\n",
    "\tcolumns={'ndvi_health': 'ndvi_health_' + imgLast.getInfo()['properties']['system:index'].split(\"T\")[0]},\n",
    "\tinplace=True)\n",
    "imgResults.rename(columns={'max': 'max_' + imgLast.getInfo()['properties']['system:index'].split(\"T\")[0]}, inplace=True)\n",
    "\n",
    "########################################## diff\n",
    "imgResults['diff'] = imgResults['ndvi_health_' + imgLast.getInfo()['properties']['system:index'].split(\"T\")[0]] - \\\n",
    "                     imgResults['ndvi_health_' + imgFirst.getInfo()['properties']['system:index'].split(\"T\")[0]]\n",
    "#print(zsresults['diff'].value_counts())\n",
    "\n",
    "# print(lastimg.getInfo()['properties']['system:index'].split(\"T\")[0])\n",
    "# print(imgfirst.getInfo()['properties']['system:index'].split(\"T\")[0])\n",
    "# print(zsresults['ndvi_health_'+lastimg.getInfo()['properties']['system:index'].split(\"T\")[0]])\n",
    "# print(zsresults['ndvi_health_cat'+lastimg.getInfo()['properties']['system:index'].split(\"T\")[0]].value_counts())\n",
    "\n",
    "\n",
    "# if health older than 6 month use NDVI health\n",
    "imgResults['health_merge'] = imgResults['health']\n",
    "imgResults.loc[(imgResults['health_merge'] == 'NaN'), 'health_merge'] = imgResults[\n",
    "\t'ndvi_health_cat' + imgLast.getInfo()['properties']['system:index'].split(\"T\")[0]]\n",
    "imgResults.loc[(imgResults['health_merge'].isna()), 'health_merge'] = imgResults[\n",
    "\t'ndvi_health_cat' + imgLast.getInfo()['properties']['system:index'].split(\"T\")[0]]\n",
    "\n",
    "####print\n",
    "print(imgResults.value_counts(['health_merge']))\n",
    "print(imgResults.isna().value_counts(['health_merge']))\n",
    "\n",
    "###save to file\n",
    "#imgResults.to_file(r\"/content/drive/MyDrive/BPLA/20230510-DQ-inv-ml-ndvi-health-1.gpkg\", driver='GPKG', layer='DQ-inv-ml-ndvi-volume-corrected-74-2')\n",
    "for i in range(len(imgResults)):\n",
    "\tif imgResults.loc[i, 'health_merge'] == 'good - جيد':\n",
    "\t\timgResults.loc[i, 'health_updated'] = 'Good'\n",
    "\telif imgResults.loc[i, 'health_merge'] == 'fair - معتدل':\n",
    "\t\timgResults.loc[i, 'health_updated'] = 'Moderate'\n",
    "\telif imgResults.loc[i, 'health_merge'] == 'poor - سئ':\n",
    "\t\timgResults.loc[i, 'health_updated'] = 'Poor'\n",
    "\telif imgResults.loc[i, 'health_merge'] == 'excellent - ممتاز':\n",
    "\t\timgResults.loc[i, 'health_updated'] = 'Excellent'\n",
    "\telif imgResults.loc[i, 'health_merge'] == 'dead - ميت':\n",
    "\t\timgResults.loc[i, 'health_updated'] = 'Dead'\n",
    "\telse:\n",
    "\t\timgResults.loc[i, 'health_updated'] = 'Missing'\n",
    "# todo: stringsplit "
   ],
   "metadata": {
    "collapsed": false,
    "ExecuteTime": {
     "end_time": "2023-09-21T08:58:02.634276Z",
     "start_time": "2023-09-21T08:57:46.195324Z"
    }
   }
  },
  {
   "cell_type": "code",
   "execution_count": 0,
   "outputs": [],
   "source": [
    "imgResults.plot('health_merge')"
   ],
   "metadata": {
    "collapsed": false
   }
  },
  {
   "cell_type": "code",
   "execution_count": 152,
   "outputs": [],
   "source": [
    "imgResults.to_file('BRT-ndvi.gpkg', driver='GPKG', layer='name')  "
   ],
   "metadata": {
    "collapsed": false,
    "ExecuteTime": {
     "end_time": "2023-09-21T09:00:35.288124Z",
     "start_time": "2023-09-21T09:00:31.519871Z"
    }
   }
  },
  {
   "cell_type": "code",
   "execution_count": null,
   "outputs": [],
   "source": [],
   "metadata": {
    "collapsed": false
   }
  }
 ],
 "metadata": {
  "colab": {
   "machine_shape": "hm",
   "provenance": [],
   "collapsed_sections": [
    "a1VmA54aBrJF",
    "JjcUDAVSVfwx"
   ]
  },
  "kernelspec": {
   "name": "python3",
   "language": "python",
   "display_name": "Python 3 (ipykernel)"
  },
  "language_info": {
   "codemirror_mode": {
    "name": "ipython",
    "version": 2
   },
   "file_extension": ".py",
   "mimetype": "text/x-python",
   "name": "python",
   "nbconvert_exporter": "python",
   "pygments_lexer": "ipython2",
   "version": "2.7.6"
  }
 },
 "nbformat": 4,
 "nbformat_minor": 0
}
