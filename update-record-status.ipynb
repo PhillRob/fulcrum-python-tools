{
 "cells": [
  {
   "cell_type": "code",
   "execution_count": null,
   "metadata": {
    "collapsed": true
   },
   "outputs": [],
   "source": [
    "# mashup script for batch changes\n",
    "from fulcrum import Fulcrum\n",
    "import json, logging, math, datetime,  timedelta\n",
    "logging.basicConfig(filename='status-update.log', level=logging.DEBUG) #optional logging to file"
   ]
  },
  {
   "cell_type": "code",
   "execution_count": null,
   "outputs": [],
   "source": [
    "# variables\n",
    "with open(\"/credentials.json\") as c:\n",
    "\tcredentials = json.load(c)\n",
    "\n",
    "fulcrum = Fulcrum(key=credentials['fulcrum_api'])\n",
    "recordsPerPage = 5000"
   ],
   "metadata": {
    "collapsed": false
   }
  },
  {
   "cell_type": "code",
   "execution_count": null,
   "outputs": [],
   "source": [
    "## count records in app\n",
    "recordCount = fulcrum.forms.find(credentials['form_id'])['form']['record_count']\n",
    "pages = math.ceil(recordCount / recordsPerPage)\n",
    "\n",
    "## get data per page\n",
    "data = []\n",
    "for p in range(1, pages + 1):\n",
    "  dataPage = fulcrum.records.search(\n",
    "    url_params={'form_id': credentials['form_id'], 'page': p, 'per_page': 5000})['records']\n",
    "  data.extend(dataPage)"
   ],
   "metadata": {
    "collapsed": false
   }
  },
  {
   "cell_type": "code",
   "execution_count": null,
   "outputs": [],
   "source": [
    "new_status = 'New'\n",
    "days = 12\n",
    "timestamp = datetime.today() - timedelta(days=days)"
   ],
   "metadata": {
    "collapsed": false
   }
  },
  {
   "cell_type": "code",
   "execution_count": null,
   "outputs": [],
   "source": [
    "for record in data:\n",
    "    if record['updated_at'] <= timestamp:\n",
    "        record['status']=new_status\n",
    "        updatedRecord = fulcrum.records.update(record['id'], record)\n",
    "    else:\n",
    "        logging.debug('No records to update')"
   ],
   "metadata": {
    "collapsed": false
   }
  }
 ],
 "metadata": {
  "kernelspec": {
   "display_name": "Python 3",
   "language": "python",
   "name": "python3"
  },
  "language_info": {
   "codemirror_mode": {
    "name": "ipython",
    "version": 2
   },
   "file_extension": ".py",
   "mimetype": "text/x-python",
   "name": "python",
   "nbconvert_exporter": "python",
   "pygments_lexer": "ipython2",
   "version": "2.7.6"
  }
 },
 "nbformat": 4,
 "nbformat_minor": 0
}
