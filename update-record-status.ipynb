{
 "cells": [
  {
   "cell_type": "code",
   "execution_count": null,
   "metadata": {
    "collapsed": true
   },
   "outputs": [],
   "source": [
    "# mashup script for batch changes\n",
    "from fulcrum import Fulcrum\n",
    "import json, math, logging, requests, datetime,  timedelta\n",
    "logging.basicConfig(filename='status-update.log', level=logging.DEBUG) #optional logging to file"
   ]
  },
  {
   "cell_type": "code",
   "execution_count": null,
   "outputs": [],
   "source": [
    "# variables\n",
    "with open(\"/credentials.json\") as c:\n",
    "\tcredentials = json.load(c)\n",
    "\n",
    "urlBase = credentials['fulcrum_url']\n",
    "fulcrum = Fulcrum(key=credentials['fulcrum_api'])\n",
    "recordsPerPage = 5000"
   ],
   "metadata": {
    "collapsed": false
   }
  },
  {
   "cell_type": "code",
   "execution_count": null,
   "outputs": [],
   "source": [
    "# fulcrum form\n",
    "formID = \"0046e79b-ef91-4b37-99b9-d6340e28094c\"  #change this to the app you want to update\n",
    "formdata = fulcrum.forms.find(formID)  # this creates list object that where you can look up the form elements and their ID's"
   ],
   "metadata": {
    "collapsed": false
   }
  },
  {
   "cell_type": "code",
   "execution_count": null,
   "outputs": [],
   "source": [
    "# fulcrum form\n",
    "formID = \"0046e79b-ef91-4b37-99b9-d6340e28094c\"  #change this to the app you want to update\n",
    "formdata = fulcrum.forms.find(\n",
    "\tformID)  # this creates list object that where you can look up the form elements and their ID's\n",
    "## get number of pages\n",
    "### the following divides the total number of records in chunks and downloads and assembles them. Otherwise the fulcrum API allows only downloads of 20,000 records\n",
    "recordsPerPage = 5000\n",
    "\n",
    "## count records in app\n",
    "recordCount = fulcrum.forms.find(formID)['form']['record_count']\n",
    "pages = math.ceil(recordCount / recordsPerPage)\n",
    "\n",
    "## get data per page\n",
    "if pages > 1:\n",
    "\tfor p in range(1, pages + 1):\n",
    "\t\tdataPage = fulcrum.records.search(url_params={'form_id': formID, 'page': p, 'per_page': recordsPerPage})[\n",
    "\t\t\t'records']\n",
    "\t\tif p > 1:\n",
    "\t\t\tdata.extend(dataPage)\n",
    "\t\telse:\n",
    "\t\t\tdata = dataPage\n",
    "else:\n",
    "\tdata = fulcrum.records.search(url_params={'form_id': formID, 'page': 1, 'per_page': recordsPerPage})['records']"
   ],
   "metadata": {
    "collapsed": false
   }
  },
  {
   "cell_type": "code",
   "execution_count": null,
   "outputs": [],
   "source": [
    "new_status = 'New'\n",
    "days = 12\n",
    "timestamp = datetime.today() - timedelta(days=days)"
   ],
   "metadata": {
    "collapsed": false
   }
  },
  {
   "cell_type": "code",
   "execution_count": null,
   "outputs": [],
   "source": [
    "for record in data:\n",
    "    if record['updated_at'] <= timestamp:\n",
    "        record['status']=new_status\n",
    "        updatedRecord = fulcrum.records.update(record['id'], record)\n",
    "    else:\n",
    "        logging.debug('No records to update')"
   ],
   "metadata": {
    "collapsed": false
   }
  }
 ],
 "metadata": {
  "kernelspec": {
   "display_name": "Python 3",
   "language": "python",
   "name": "python3"
  },
  "language_info": {
   "codemirror_mode": {
    "name": "ipython",
    "version": 2
   },
   "file_extension": ".py",
   "mimetype": "text/x-python",
   "name": "python",
   "nbconvert_exporter": "python",
   "pygments_lexer": "ipython2",
   "version": "2.7.6"
  }
 },
 "nbformat": 4,
 "nbformat_minor": 0
}
