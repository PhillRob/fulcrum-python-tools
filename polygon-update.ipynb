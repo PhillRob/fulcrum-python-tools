{
 "cells": [
  {
   "cell_type": "code",
   "execution_count": null,
   "metadata": {
    "collapsed": true
   },
   "outputs": [],
   "source": [
    "## mashup script for batch changes\n",
    "import math, json\n",
    "from collections import Counter\n",
    "from datetime import datetime, timedelta\n",
    "from geopandas.tools import sjoin\n",
    "# from pyproj import proj\n",
    "import pandas as pd\n",
    "import csv\n",
    "import numpy as np\n",
    "from shapely.geometry import Point\n",
    "from shapely.geometry.polygon import Polygon\n",
    "import matplotlib.pyplot as plt\n",
    "from shapely.geometry import Point\n",
    "import geopandas as gpd\n",
    "import fiona\n",
    "from fulcrum import Fulcrum"
   ]
  },
  {
   "cell_type": "code",
   "execution_count": null,
   "outputs": [],
   "source": [
    "# variables\n",
    "with open(\"/credentials.json\") as c:\n",
    "\tcredentials = json.load(c)\n",
    "\n",
    "fulcrum = Fulcrum(key=credentials['fulcrum_api'])\n",
    "\n",
    "osTimestamp = datetime.today() - timedelta(days=4)\n",
    "recordsPerPage = 5000"
   ],
   "metadata": {
    "collapsed": false
   }
  },
  {
   "cell_type": "code",
   "execution_count": null,
   "outputs": [],
   "source": [
    "# target data\n",
    "formIDTarget = \"0092aa7f-a2e8-4972-8f26-46eb98b23a12\"  #change this to the app you want to update\n",
    "formdataTarget = fulcrum.forms.find(formIDTarget)\n",
    "# get number of pages\n",
    "## the following divides the total number of records in chunks and downloads and assembles them. Otherwise the fulcrum API allows only downloads of 20,000 records\n",
    "\n",
    "## count records in app\n",
    "recordCountTarget = fulcrum.forms.find(formIDTarget)['form']['record_count']\n",
    "pagesTarget = math.ceil(recordCountTarget / recordsPerPage)"
   ],
   "metadata": {
    "collapsed": false
   }
  },
  {
   "cell_type": "code",
   "execution_count": null,
   "outputs": [],
   "source": [
    "## get target data\n",
    "if pagesTarget > 1:\n",
    "\tfor p in range(1, pagesTarget + 1):\n",
    "\t\tdataPage = fulcrum.records.search(url_params={'form_id': formIDTarget, 'page': p, 'per_page': recordsPerPage})[\n",
    "\t\t\t'records']\n",
    "\t\tif p > 1:\n",
    "\t\t\tdataTarget.extend(dataPage)\n",
    "\t\telse:\n",
    "\t\t\tdataTarget = dataPage\n",
    "else:\n",
    "\tdataTarget = fulcrum.records.search(url_params={'form_id': formIDTarget, 'page': 1, 'per_page': recordsPerPage})[\n",
    "\t\t'records']"
   ],
   "metadata": {
    "collapsed": false
   }
  },
  {
   "cell_type": "code",
   "execution_count": null,
   "outputs": [],
   "source": [
    "# set up counters\n",
    "noloc = missmatch = match = notfilter = incomplete = 0\n",
    "rfi = nar = match = oh = incomplete = 0"
   ],
   "metadata": {
    "collapsed": false
   }
  },
  {
   "cell_type": "markdown",
   "source": [
    "Check out all project in this organisation (under this API)"
   ],
   "metadata": {
    "collapsed": false
   }
  },
  {
   "cell_type": "code",
   "execution_count": null,
   "outputs": [],
   "source": [
    "# get unique project IDs in a list\n",
    "res = list()\n",
    "for record in dataTarget:\n",
    "    project_id = record['project_id']\n",
    "    if project_id not in res:\n",
    "            res.append(project_id)\n"
   ],
   "metadata": {
    "collapsed": false
   }
  },
  {
   "cell_type": "code",
   "execution_count": null,
   "outputs": [],
   "source": [
    "# create dict with matching names\n",
    "result = {}\n",
    "for i in res:\n",
    "    try:\n",
    "        project_info = fulcrum.projects.find(i)['project']\n",
    "        result[i] = project_info['name']\n",
    "\n",
    "    except:\n",
    "        project_info = 'Unknown Project'\n",
    "        result['None'] = 'Unknown'\n",
    "print(result)"
   ],
   "metadata": {
    "collapsed": false
   }
  },
  {
   "cell_type": "markdown",
   "source": [
    "Option one: fill the project field (if empty) with the Name column of the KML"
   ],
   "metadata": {
    "collapsed": false
   }
  },
  {
   "cell_type": "code",
   "execution_count": null,
   "outputs": [],
   "source": [
    "# read a KMl file with a Name column\n",
    "gpd.io.file.fiona.drvsupport.supported_drivers['KML'] = 'rw'\n",
    "df = gpd.read_file('AMM.kml', driver='KML')"
   ],
   "metadata": {
    "collapsed": false
   }
  },
  {
   "cell_type": "code",
   "execution_count": null,
   "outputs": [],
   "source": [
    "for record in dataTarget:\n",
    "    if record['project'] == False:\n",
    "        match = match + 1\n",
    "        pdf = pd.DataFrame(\n",
    "            {'ID': ['1'],\n",
    "             'Latitude': record['latitude'],\n",
    "             'Longitude': record['longitude']})\n",
    "\n",
    "        gdf = gpd.GeoDataFrame(\n",
    "            pdf, geometry=gpd.points_from_xy(pdf.Longitude, pdf.Latitude),crs=df.crs)\n",
    "\n",
    "        pointInPolys = gpd.tools.sjoin(gdf, df, predicate=\"within\", how='left')\n",
    "        record['project'] = [pointInPolys['Name'][0]]\n",
    "        recordUpdated = fulcrum.records.update(record['id'], record)\n",
    "        print(match)\n",
    "    else:\n",
    "        ##print('other')\n",
    "        missmatch = missmatch + 1"
   ],
   "metadata": {
    "collapsed": false
   }
  },
  {
   "cell_type": "markdown",
   "source": [
    "Option two: Manually update based on a"
   ],
   "metadata": {
    "collapsed": false
   }
  },
  {
   "cell_type": "code",
   "execution_count": null,
   "outputs": [],
   "source": [
    "# read geodata and plot\n",
    "poly = r'/Users/philipp/Downloads/Received-projects-translated.gpkg' #SHP, geojson\n",
    "polydata = gpd.read_file(poly)\n",
    "polydata = polydata.reset_index()\n",
    "polydata = polydata.explode(index_parts=True) #multiparts to single parts\n",
    "polydata = polydata.reset_index()\n",
    "polydata['p'] = polydata.index\n",
    "\n",
    "polydata.plot('p',figsize=[10,10], legend=True, categorical=True,label='p')"
   ],
   "metadata": {
    "collapsed": false
   }
  },
  {
   "cell_type": "code",
   "execution_count": null,
   "outputs": [],
   "source": [
    "# buffer, maybe adjust\n",
    "polydata['geometry']=polydata.buffer(0.0005) #WGS projection is in decimal degree: 0.5=1km"
   ],
   "metadata": {
    "collapsed": false
   }
  },
  {
   "cell_type": "code",
   "execution_count": null,
   "outputs": [],
   "source": [
    "# select polygon based on index id\n",
    "polygon = polydata.loc[0,'geometry']\n",
    "polygon"
   ],
   "metadata": {
    "collapsed": false
   }
  },
  {
   "cell_type": "code",
   "execution_count": null,
   "outputs": [],
   "source": [
    "# check if points are in polygon and assign new project ID based on the list above\n",
    "for record in dataTarget:\n",
    "    point = Point(record['longitude'], record['latitude'])\n",
    "    try:\n",
    "        if polygon.contains(point):\n",
    "            # (str(record['project_id']) not in '7739a1cf-2bfd-4a10-ad53-094150492232') and\n",
    "            record['project_id'] = '7739a1cf-2bfd-4a10-ad53-094150492232'\n",
    "            recordUpdated = fulcrum.records.update(record['id'], record)\n",
    "            match = match + 1\n",
    "            print('in:',match)\n",
    "        else:\n",
    "            missmatch=missmatch+1\n",
    "            print('out:',missmatch)\n",
    "    except KeyError:\n",
    "        noproject = noproject + 1"
   ],
   "metadata": {
    "collapsed": false
   }
  }
 ],
 "metadata": {
  "kernelspec": {
   "display_name": "Python 3",
   "language": "python",
   "name": "python3"
  },
  "language_info": {
   "codemirror_mode": {
    "name": "ipython",
    "version": 2
   },
   "file_extension": ".py",
   "mimetype": "text/x-python",
   "name": "python",
   "nbconvert_exporter": "python",
   "pygments_lexer": "ipython2",
   "version": "2.7.6"
  }
 },
 "nbformat": 4,
 "nbformat_minor": 0
}
