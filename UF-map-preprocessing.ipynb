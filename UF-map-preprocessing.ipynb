{
 "cells": [
  {
   "cell_type": "markdown",
   "metadata": {
    "id": "a1VmA54aBrJF"
   },
   "source": [
    "# Set up the environment\n",
    "1. Install the necessary libraries\n",
    "2. Authenticate with GEE"
   ]
  },
  {
   "cell_type": "code",
   "execution_count": null,
   "metadata": {
    "colab": {
     "base_uri": "https://localhost:8080/"
    },
    "id": "16B1BOpKBZbJ",
    "outputId": "67c611ad-a78c-4341-b599-1b9c00c8f3c8"
   },
   "outputs": [],
   "source": [
    "!pip install geopandas\n",
    "!pip install rasterio\n",
    "!pip install fulcrum\n",
    "!pip install rasterstats\n",
    "!pip install StringIO\n",
    "#!pip install ee\n",
    "!pip install earthengine-api --upgrade\n",
    "!pip install importlib\n",
    "!pip install open_clip_torch\n",
    "!pip install contextily"
   ]
  },
  {
   "cell_type": "code",
   "execution_count": null,
   "outputs": [],
   "source": [
    "import io\n",
    "from io import StringIO\n",
    "import contextily as ctx\n",
    "import shapely.geometry\n",
    "import matplotlib.pyplot as plt\n",
    "import matplotlib.colors as colors\n",
    "import json\n",
    "import reportlab\n",
    "from reportlab.lib.pagesizes import A4\n",
    "from reportlab.lib.pagesizes import letter\n",
    "from reportlab.pdfgen import canvas\n",
    "import math\n",
    "import warnings\n",
    "from datetime import datetime, timedelta\n",
    "import ee # import Google earth engine module\n",
    "import geopandas as gpd\n",
    "import numpy as np\n",
    "import pandas as pd\n",
    "import rasterio\n",
    "from fulcrum import Fulcrum\n",
    "from rasterio.transform import from_origin\n",
    "from rasterstats import zonal_stats\n",
    "\n",
    "#Authenticate the Google Earth engine with Google account\n",
    "# First setup only, no need to run this after first run\n",
    "#ee.Authenticate()\n",
    "#ee.Initialize()\n",
    "# warnings.filterwarnings('ignore')"
   ],
   "metadata": {
    "collapsed": false
   }
  },
  {
   "cell_type": "markdown",
   "metadata": {
    "id": "8iMdlZp23Vic"
   },
   "source": [
    "# Get Fulcrum Data"
   ]
  },
  {
   "cell_type": "code",
   "execution_count": null,
   "metadata": {
    "id": "FixFZX70c-7y"
   },
   "outputs": [],
   "source": [
    "with open(\"/credentials.json\") as c:\n",
    "\tcredentials = json.load(c)\n",
    "\n",
    "fulcrum = Fulcrum(key=credentials['fulcrum_api'])"
   ]
  },
  {
   "cell_type": "code",
   "execution_count": null,
   "outputs": [],
   "source": [
    "# todo: add project name and use throughout the file\n",
    "projectName = 'KKR'"
   ],
   "metadata": {
    "collapsed": false
   }
  },
  {
   "cell_type": "code",
   "execution_count": null,
   "outputs": [],
   "source": [
    "formdata = fulcrum.forms.find(credentials['TMO_TI_form'])\n",
    "\n",
    "recordCount = formdata['form']['record_count']\n",
    "pages = math.ceil(recordCount / 5000)\n",
    "# way cleaner than my script. Thanks!\n",
    "data = []\n",
    "for p in range(1, pages + 1):\n",
    "  dataPage = fulcrum.records.search(\n",
    "    url_params={'form_id': credentials['TMO_TI_form'], 'page': p, 'per_page': 5000})['records']\n",
    "  data.extend(dataPage)"
   ],
   "metadata": {
    "collapsed": false
   }
  },
  {
   "cell_type": "code",
   "execution_count": null,
   "metadata": {
    "id": "GDxUnZxbHhc_",
    "colab": {
     "base_uri": "https://localhost:8080/",
     "height": 36
    },
    "outputId": "dbf7d970-7abb-4eba-e216-791696129f70"
   },
   "outputs": [],
   "source": [
    "# simplify data and un-nest values from json. Add all trees without spread get a 10m value.\n",
    "for record in data:\n",
    "\tif 'f6ef' in record['form_values']:\n",
    "\t\trecord['health'] = ''.join(record['form_values']['f6ef']['choice_values'])\n",
    "\telse:\n",
    "\t\trecord['health'] = 'NaN'\n",
    "\n",
    "\tif '0a3e' in record['form_values']:\n",
    "\t\trecord['structure'] = ''.join(record['form_values']['0a3e']['choice_values'])\n",
    "\telse:\n",
    "\t\trecord['structure'] = 'NaN'\n",
    "\n",
    "\tif '009b' in record['form_values']:\n",
    "\t\trecord['height'] = ''.join(record['form_values']['009b'])\n",
    "\telse:\n",
    "\t\trecord['height'] = 'NaN'\n",
    "\n",
    "\tif '7a77' in record['form_values']:\n",
    "\t\trecord['DBH'] = ''.join(record['form_values']['7a77'])\n",
    "\telse:\n",
    "\t\trecord['DBH'] = 'NaN'\n",
    "\n",
    "\tif '6e5e' in record['form_values']:\n",
    "\t\trecord['source'] = ''.join(record['form_values']['6e5e']['choice_values'])\n",
    "\telse:\n",
    "\t\trecord['source'] = 'NaN'\n",
    "\n",
    "\tif 'b96d' in record['form_values']:\n",
    "\t\trecord['spread'] = ''.join(record['form_values']['b96d'])\n",
    "\telse:\n",
    "\t\trecord['spread'] = '7'\n",
    "\n",
    "\tif '3fee' in record['form_values']:\n",
    "\t\trecord['species'] = ''.join(record['form_values']['3fee']['choice_values'])\n",
    "\telse:\n",
    "\t\trecord['species'] = 'No Name - لا يوجد اسم'\n",
    "\n",
    "\trecord['genus']= record['species'].split(' ')[0]\n",
    "\n",
    "\tif record['genus'] in ['no', '', 'No']:\n",
    "\t\trecord['genus'] = 'No name'\n",
    "\n",
    "\t# \tselect dead and missing from inventory and lable them future trees\n",
    "\tif record['status'] in ['Missing tree - لا يوجد شجرة', 'Dead tree - شجرة ميتة', 'Plant tree - ازرع شجرة']:\n",
    "\t\trecord['existing'] = 'no'\n",
    "\telse:\n",
    "\t\trecord['existing'] = 'yes'\n",
    "\n",
    "\tif record['genus'] in ['Phoenix', 'Washingtonia']:\n",
    "\t\trecord['Class'] = 'Palm'\n",
    "\telif record['genus'] == 'No name':\n",
    "\t\trecord['Class'] = 'Not identified'\n",
    "\telse:\n",
    "\t\trecord['Class'] = 'Shade'\n",
    "\n",
    "\tif record['status'] == 'No action required - لا حاجة لأي إجراء':\n",
    "\t\trecord['status'] = 'No action required'\n",
    "\telif record['status'] == 'Request of activation - طلب تفعيل':\n",
    "\t\trecord['status'] = 'Request of activation'\n",
    "\telif record['status'] == 'Request of inspection (RFI) - طلب معاينة':\n",
    "\t\trecord['status'] = 'Request of inspection'\n",
    "\telif record['status'] == 'Escalation issue - قضية تصعيد':\n",
    "\t\trecord['status'] = 'Escalation issue'\n",
    "\telse:\n",
    "\t\trecord['status'] = 'Issue in place'\n",
    "\n",
    "'''\n",
    "if record['genus'] in ['Phoenix', 'Washingtonia', 'Acacia', '', '','']:\n",
    "\t\trecord['Type'] = 'Tree'\n",
    "\telse:\n",
    "\t\trecord['Type'] = 'Shrubs'\n",
    "'''"
   ]
  },
  {
   "cell_type": "code",
   "execution_count": null,
   "metadata": {
    "id": "7oMXp5FG0Qn0"
   },
   "outputs": [],
   "source": [
    "# get unique project IDs in a list\n",
    "res = list()\n",
    "for record in data:\n",
    "    project_id = record['project_id']\n",
    "    if project_id not in res:\n",
    "            res.append(project_id)\n",
    "\n",
    "\n",
    "# create dict with matching names\n",
    "result = {}\n",
    "for i in res:\n",
    "    try:\n",
    "        project_info = fulcrum.projects.find(i)['project']\n",
    "        result[i] = project_info['name']\n",
    "    except:\n",
    "        result[i] = 'Unknown Project'\n",
    "\n",
    "\n",
    "# add project names to org data\n",
    "for record in data:\n",
    "    record['project'] = result.get(record['project_id'], 'Unknown')"
   ]
  },
  {
   "cell_type": "code",
   "execution_count": null,
   "metadata": {
    "id": "HOGiR9tOZxFU"
   },
   "outputs": [],
   "source": [
    "df = pd.DataFrame(data)\n",
    "df.drop(columns=['id', 'form_id', 'created_by_id', 'version','id', 'created_at','updated_at',\n",
    "                 'created_by', 'assigned_to_id', 'altitude', 'speed', 'course', 'horizontal_accuracy',\n",
    "                 'vertical_accuracy', 'updated_by', 'updated_by_id', 'created_location', 'updated_location',\n",
    "                 'created_duration', 'updated_duration', 'edited_duration', 'project_id', 'record_series_id', 'assigned_to', 'form_values'], axis=1, inplace=True)\n",
    "\n",
    "inventory = gpd.GeoDataFrame(df, geometry = gpd.points_from_xy(df.longitude, df.latitude))\n",
    "inventory.crs = 'EPSG:4326'\n",
    "inventory = inventory.to_crs(32638)\n",
    "# inventory_3 = inventory.copy()"
   ]
  },
  {
   "cell_type": "code",
   "execution_count": null,
   "metadata": {
    "id": "9bsQuhMCmONz"
   },
   "outputs": [],
   "source": [
    "inventory = inventory.drop_duplicates(['geometry'])"
   ]
  },
  {
   "cell_type": "code",
   "execution_count": null,
   "outputs": [],
   "source": [
    "print(len(inventory))"
   ],
   "metadata": {
    "collapsed": false
   }
  },
  {
   "cell_type": "markdown",
   "metadata": {
    "id": "JjcUDAVSVfwx"
   },
   "source": [
    "# Define related functions\n",
    "\n",
    "1- read file function\n",
    "\n",
    "2- plot map function"
   ]
  },
  {
   "cell_type": "code",
   "execution_count": null,
   "outputs": [],
   "source": [
    "# define read_data function to load geojson files and project them\n",
    "def read_data(URL, crs):\n",
    "  # URL= \"r'\"+URL+\"'\"\n",
    "  data = gpd.read_file(URL)\n",
    "  data = data.to_crs(crs)\n",
    "\n",
    "  return data"
   ],
   "metadata": {
    "collapsed": false
   }
  },
  {
   "cell_type": "code",
   "execution_count": null,
   "metadata": {
    "id": "0ENL2cwJU_Jv"
   },
   "outputs": [],
   "source": [
    "def plot_map(dataset, boundary, column, title, savefig):\n",
    "    # todo: you define a plot function here but do not use it at all\n",
    "    # Reproject data to Web Mercator projection (EPSG:3857)\n",
    "    dataset = dataset.to_crs(epsg=3857)\n",
    "\n",
    "    # Plot the GeoDataFrame with colors and labels.#cmap: Set3, plasma, magma, inferno, viridis, coolwarm\n",
    "    fig, ax = plt.subplots(figsize=(15, 15))\n",
    "    dataset.plot(column=column, cmap='coolwarm', ax=ax, legend=True, markersize=2)\n",
    "    boundary.to_crs(epsg=3857).plot(edgecolor=\"black\", facecolor=\"none\", ax=ax)\n",
    "\n",
    "    # Add basemap\n",
    "    source = 'https://server.arcgisonline.com/ArcGIS/rest/services/World_Imagery/MapServer/tile/{z}/{y}/{x}'\n",
    "    ctx.add_basemap(ax, source=source)\n",
    "    ax.set_axis_off()\n",
    "\n",
    "    # add a title\n",
    "    plt.title(title, size=18)\n",
    "\n",
    "    # Save the plot to a PNG file\n",
    "    plt.savefig(savefig, dpi='figure', bbox_inches='tight')\n",
    "\n",
    "    # Show the plot\n",
    "    plt.show()"
   ]
  },
  {
   "cell_type": "markdown",
   "metadata": {
    "id": "urk_-7Kf3ePE"
   },
   "source": [
    "# Get other Data:\n",
    "\n",
    "1.   KKR and KSR boundaries\n",
    "2.   Riyadh boundary"
   ]
  },
  {
   "cell_type": "code",
   "execution_count": null,
   "metadata": {
    "id": "rvk-6w1Dz2Tj"
   },
   "outputs": [],
   "source": [
    "#Call read_data function to load data\n",
    "# 1- KKR Boundaries\n",
    "KKRboundarygdf = read_data(r\"/Users/philipp/Projects/PycharmProjects/fulcrum-python-tools/review/KKR.gpkg\", 32638)\n",
    "# 2- Riyadh boundary\n",
    "Riyadhboundarygdf = read_data(r\"/Users/philipp/BPLA Dropbox/03 Planning/BAHGA-Greening-Arriyadh/03_Drawings/GIS-data/RUH-urban-environment/urban-environs.shp\", 32638)\n",
    "##PR: i added the the r in front of the path as some of our paths have spaces and other unescaped characters.  "
   ]
  },
  {
   "cell_type": "code",
   "execution_count": null,
   "metadata": {
    "colab": {
     "base_uri": "https://localhost:8080/",
     "height": 182
    },
    "id": "8Ld8zAQXzshV",
    "outputId": "886683b4-be01-46ed-f248-51404c8c4fb1"
   },
   "outputs": [],
   "source": [
    "# KKRboundarygdf.plot()\n",
    "# Riyadhboundarygdf.plot()"
   ]
  },
  {
   "cell_type": "markdown",
   "metadata": {
    "id": "U5nC584EOBqw"
   },
   "source": [
    "# Filter data\n",
    "\n",
    "\n",
    "1.   Remove points outside Riyadh City boundary\n",
    "2.   Check overlay with KKR and KSR boundaries\n"
   ]
  },
  {
   "cell_type": "code",
   "execution_count": null,
   "metadata": {
    "colab": {
     "base_uri": "https://localhost:8080/"
    },
    "id": "_XV6Z2IRb3d3",
    "outputId": "4b8667c7-bfa6-4426-fb8c-505e27f22b91"
   },
   "outputs": [],
   "source": [
    "# Check for intersection\n",
    "intersectionriyadh = inventory.geometry.within(Riyadhboundarygdf.geometry.iloc[0])\n",
    "\n",
    "# Create a new column 'rcrc' in the Fulcrum data and set it to 'yes'\n",
    "inventory['withinRiyadh'] = 'no'\n",
    "\n",
    "# Set the 'overlayRiyadh' column to 'yes' for rows where there is an intersection\n",
    "inventory.loc[intersectionriyadh, 'withinRiyadh'] = 'yes'\n",
    "\n",
    "print(inventory[\"withinRiyadh\"].value_counts())"
   ]
  },
  {
   "cell_type": "code",
   "execution_count": null,
   "metadata": {
    "colab": {
     "base_uri": "https://localhost:8080/"
    },
    "id": "2sJlZD0KkVJQ",
    "outputId": "dc5fcd89-2519-415f-c586-ea890040a075"
   },
   "outputs": [],
   "source": [
    "inventory_1 = inventory[inventory['withinRiyadh'] == 'yes']\n",
    "print(inventory_1.shape)"
   ]
  },
  {
   "cell_type": "code",
   "execution_count": null,
   "metadata": {
    "colab": {
     "base_uri": "https://localhost:8080/"
    },
    "id": "j2drACyez2Tl",
    "outputId": "34aa278c-069d-4540-fb69-5901bf9f06b4"
   },
   "outputs": [],
   "source": [
    "#\tFilter inventory by KKRKSRboundarygdf\n",
    "inventory_2 = gpd.sjoin(inventory_1, KKRboundarygdf, how = \"left\")\n",
    "inventory_2['points'] = np.where(np.isnan(inventory_2['index_right']), 0, 1)\n",
    "del (inventory_2['index_right'])\n",
    "\n",
    "inventory_2.loc[inventory_2['points'] == 0, 'overlayK'] = 'outside KKR/KSR'\n",
    "inventory_2['overlayK'] = inventory_2['overlayK'].fillna('inside KKR/KSR')\n",
    "\n",
    "print(inventory_2['overlayK'].value_counts())\n",
    "\n",
    "# inventory_2.drop(columns=['altitudeMo','tessellate', 'extrude', 'visibility', 'drawOrder', 'icon', 'points', 'Name', 'timestamp', 'begin', 'end', 'fid', 'descriptio', 'English_na'], axis=1, inplace=True)"
   ]
  },
  {
   "cell_type": "code",
   "execution_count": null,
   "metadata": {
    "colab": {
     "base_uri": "https://localhost:8080/"
    },
    "id": "6fkNDsYrDtg9",
    "outputId": "1a671c46-f741-4228-a11c-42a78b67b614"
   },
   "outputs": [],
   "source": [
    "testKKR = inventory[inventory['project']=='KKR']\n",
    "testKKR.shape"
   ]
  },
  {
   "cell_type": "markdown",
   "metadata": {
    "id": "lDlV_37CwLEQ"
   },
   "source": [
    "# Output maps"
   ]
  },
  {
   "cell_type": "markdown",
   "source": [
    "1- Masterplan Current Status\n",
    "\n",
    "Input:\n",
    "\n",
    "        Fulcrum ([TMO] combined tree inventory)\n",
    "\n",
    "Output:\n",
    "\n",
    "        Total trees:\n",
    "              trees inside KKR and KSR\n",
    "              trees outside KKR and KSR\n",
    "\n",
    "page 12"
   ],
   "metadata": {
    "collapsed": false
   }
  },
  {
   "cell_type": "code",
   "execution_count": null,
   "outputs": [],
   "source": [
    "inventory = inventory.to_crs(epsg=3857)\n",
    "\n",
    "color_dict = dict.fromkeys(inventory['project'].unique(),\"fuchsia\")\n",
    "color_dict['KKR'] = 'green'\n",
    "# todo: this needs to be dynamic as the data will always vary between projects and different points in time. \n",
    "\n",
    "# Map the color_dict values to the inventory[\"project\"] to be correctly mapped on the map\n",
    "inventory[\"color\"] = inventory[\"project\"].map(color_dict)\n",
    "\n",
    "# plot data and boundary based on the specified inventory['color']\n",
    "fig, ax = plt.subplots(figsize=(12, 12))\n",
    "inventory.plot(ax=ax, color=inventory[\"color\"], legend=True, markersize=0.010)\n",
    "# inventory.plot(ax=ax, color=inventory[\"project\"], legend=True, markersize=0.010)\n",
    "\n",
    "Riyadhboundarygdf.to_crs(epsg=3857).plot(edgecolor=\"black\", facecolor=\"none\", ax=ax)\n",
    "\n",
    "# add a basemap and remove axis\n",
    "source = 'https://server.arcgisonline.com/ArcGIS/rest/services/World_Imagery/MapServer/tile/{z}/{y}/{x}'\n",
    "ctx.add_basemap(ax, source=source)\n",
    "ax.axis('off')\n",
    "\n",
    "# Calculate values counts and sort them by order Desc\n",
    "counts = inventory['project'].value_counts()\n",
    "\n",
    "# Customize legend labels with the values counts and create handles\n",
    "sorted_labels = sorted(counts.keys(), key=lambda label: counts[label], reverse=True)\n",
    "labels = [f\"{label} ({counts[label]})\" for label in sorted_labels]\n",
    "\n",
    "index_map = {v: i for i, v in enumerate(sorted_labels)}\n",
    "color_dict=dict(sorted(color_dict.items(), key=lambda pair: index_map[pair[0]]))\n",
    "handles = [plt.Rectangle((0, 0), 1, 1, color=color) for label, color in color_dict.items()]\n",
    "# Manually add 'KKR' at the beginning of sorted_labels list\n",
    "\n",
    "\n",
    "# Add legend title and plot it\n",
    "legend_title = \"LEGEND \\n\"\n",
    "plt.legend(handles, labels, title=legend_title, bbox_to_anchor=(1.25, 1))\n",
    "\n",
    "# Add a map title and specify size\n",
    "plt.title(\"Masterplan Current projects \\n KKR\", size=18)\n",
    "\n",
    "# Save the plot to an image(png)\n",
    "plt.savefig('plot_0.png', dpi='figure', bbox_inches='tight')\n",
    "\n",
    "plt.show()"
   ],
   "metadata": {
    "collapsed": false
   }
  },
  {
   "cell_type": "markdown",
   "metadata": {
    "id": "V2MpNpze2wSr"
   },
   "source": [
    "2- Masterplan vegetation cover\n",
    "\n",
    "Input:\n",
    "\n",
    "          Fulcrum ([TMO] combined inventories)\n",
    "\n",
    "Output:\n",
    "\n",
    "          Total canopy area\n",
    "\n",
    "          RCRC: Existing Canopy\n",
    "          RCRC: To be replanted canopy\n",
    "          notRCRC:Other Green Cover\n",
    "\n",
    "          Total vegetation cover\n",
    "          Existing vegetation cover\n",
    "\n",
    "page 13"
   ]
  },
  {
   "cell_type": "code",
   "execution_count": null,
   "metadata": {
    "id": "eDNwFz3pG6W5"
   },
   "outputs": [],
   "source": [
    "# as-builts spread\n",
    "testKKR['spread'] = testKKR.spread.astype(str).astype(float)\n",
    "\n",
    "testKKR.loc[testKKR['spread'] < 7, 'spread'] = 7\n",
    "testKKR.loc[testKKR['spread'].isna(), 'spread'] = 7\n",
    "testKKR.reset_index(inplace=True, drop=True)\n",
    "\n",
    "finalnodub = testKKR.drop_duplicates(['geometry'])\n",
    "final_c = finalnodub.copy()\n",
    "final_c.reset_index(inplace=True, drop=True)\n",
    "\n",
    "# Create a buffer per point\n",
    "final_c.loc[final_c.geometry.type == 'Point','geometry'] = final_c.buffer((final_c['spread']/2))\n",
    "\n",
    "# Create a list of polygons\n",
    "polygons = []\n",
    "for feature in final_c.geometry:\n",
    "    polygons.append(shapely.geometry.shape(feature))\n",
    "    \n",
    "# Extract the geometry of each polygon\n",
    "\n",
    "# Create a list of unions of intersecting polygons\n",
    "# TODO: cant you just run dissolve? eg: final_c.dissolve()\n",
    "unions = []\n",
    "for i in range(len(polygons)):\n",
    "    for j in range(i + 1, len(polygons)):\n",
    "        if polygons[i].intersects(polygons[j]):\n",
    "            unions.append(polygons[i].union(polygons[j]))\n",
    "        else:\n",
    "            unions.append(polygons[i])\n",
    "\n",
    "# Create a list of areas\n",
    "areas = []\n",
    "for polygon in polygons:\n",
    "    areas.append(polygon.area)\n",
    "\n",
    "# Calculate the summation of areas\n",
    "total_area = sum(areas)\n",
    "\n",
    "# Print the total area\n",
    "if len(unions) > 0:\n",
    "    print(\"total area of vegetation cover = \", total_area)\n",
    "else:\n",
    "    print(\"There are no intersecting polygons, but the summation of areas is \", total_area)\n",
    "\n",
    "#print the output area:\n",
    "KKR_area = KKRboundarygdf.area"
   ]
  },
  {
   "cell_type": "code",
   "source": [
    "# Reproject data to Web Mercator projection (EPSG:3857)\n",
    "testKKR = testKKR.to_crs(epsg=3857)\n",
    "\n",
    "# Plot the GeoDataFrame with colors and labels.#cmap: Set3, plasma, magma, inferno, viridis, coolwarm\n",
    "fig, ax = plt.subplots(figsize=(15, 15))\n",
    "testKKR.plot(ax=ax, color='green', legend=True, markersize=0.05)\n",
    "#Riyadhboundarygdf.to_crs(epsg=3857).plot(edgecolor=\"black\", facecolor=\"none\", ax=ax)\n",
    "\n",
    "# Add basemap\n",
    "source = 'https://server.arcgisonline.com/ArcGIS/rest/services/World_Imagery/MapServer/tile/{z}/{y}/{x}'\n",
    "ctx.add_basemap(ax, source=source)\n",
    "ax.set_axis_off()\n",
    "\n",
    "# Add legend title and plot it\n",
    "legend_title = \"LEGEND \\n\"\n",
    "handles = [plt.Rectangle((0, 0), 1, 1, color='green')]\n",
    "label = 'Total vegetation cover: ' + str(round(KKR_area[0],2)) + ' m2'# this needs to be dynamic\n",
    "plt.legend(handles, [label], title=legend_title, bbox_to_anchor=(1, 1))\n",
    "\n",
    "# add a title\n",
    "plt.title('Master Plan Vegetation Cover \\n KKR', size=18)\n",
    "\n",
    "    # Save the plot to a PNG file\n",
    "plt.savefig('plot_1', dpi='figure', bbox_inches='tight')\n",
    "\n",
    "    # Show the plot\n",
    "plt.show()"
   ],
   "metadata": {
    "colab": {
     "base_uri": "https://localhost:8080/",
     "height": 1000
    },
    "id": "quv7AxNm_b8B",
    "outputId": "4d5f125a-b8f3-4b25-f1e6-92944e6e2172"
   },
   "execution_count": null,
   "outputs": []
  },
  {
   "cell_type": "markdown",
   "metadata": {
    "id": "OBZRnRbT44g0"
   },
   "source": [
    "3- Masterplan Tree Species:\n",
    "\n",
    "Input:\n",
    "\n",
    "            Fulcrum ([TMO] combined inventories)\n",
    "Output:\n",
    "\n",
    "            Species\n",
    "      \n",
    "page 15"
   ]
  },
  {
   "cell_type": "code",
   "execution_count": null,
   "metadata": {
    "colab": {
     "base_uri": "https://localhost:8080/",
     "height": 256
    },
    "id": "LQ8nbgaYBtoA",
    "outputId": "7bcad3b9-da92-48a8-e6a8-80204a67c056"
   },
   "outputs": [],
   "source": [
    "#Creating a dict of colors for eaach value in genus column\n",
    "\n",
    "color_dict = {'Acacia': 'orange', 'Phoenix': 'purple', 'Ziziphus': 'blue', 'Ficus':'pink', 'Olea': 'olive', 'Prosopis':'brown',\n",
    "              'No name':'green', 'Moringa':'cyan','Parkinsonia':'green', 'Washingtonia':'green', 'Millettia':'green', 'Albizia': 'green',\n",
    "              'Pithecellobium': 'green', 'Ceratonia':'green', 'Maerua':'green', 'Dafla':'green', 'Alovera':'green', 'Azadirachta':'green'}\n",
    "# todo: this needs to be dynamic as the data will always vary between projects and different points in time. \n",
    "\n",
    "# Map the color_dict values to the testKKRKSR[\"genus\"] to be correctly mapped on the map\n",
    "testKKR[\"color\"] = testKKR['genus'].map(color_dict)\n",
    "\n",
    "#plot data based on the specified testKKRKSR['genus']\n",
    "fig, ax = plt.subplots(figsize=(20, 20))\n",
    "testKKR.plot(ax=ax, color=testKKR[\"color\"], legend=True, markersize=0.1)\n",
    "#Riyadhboundarygdf.to_crs(epsg=3857).plot(edgecolor=\"black\", facecolor=\"none\", ax=ax)\n",
    "\n",
    "#add a basemap and remove axis\n",
    "source = 'https://server.arcgisonline.com/ArcGIS/rest/services/World_Imagery/MapServer/tile/{z}/{y}/{x}'\n",
    "ctx.add_basemap(ax, source=source)\n",
    "ax.axis('off')\n",
    "\n",
    "#Calculate values counts and sort them by order Desc\n",
    "counts = testKKR['genus'].value_counts()\n",
    "sorted_labels = sorted(color_dict.keys(), key=lambda label: counts[label], reverse=True)  # Sort by counts in descending order\n",
    "\n",
    "#customize legend labels with counts and create handles/circle/line and dot...etc.\n",
    "labels = [f\"{label} ({counts[label]})\" for label in sorted_labels]\n",
    "handles = [plt.Rectangle((0, 0), 1, 1, color=color) for color in color_dict.values()]\n",
    "\n",
    "#add legend title and plot it\n",
    "legend_title = \"LEGEND \\n\"\n",
    "plt.legend(handles, labels, title=legend_title, bbox_to_anchor=(1, 1))\n",
    "#legend_text = f\"Total Trees: {testKKR.shape[0]}\\n\" + \"\\n\".join(labels)\n",
    "\n",
    "# add a map title\n",
    "plt.title(\"Masterplan Tree Genus \\n KKR\", size=18)\n",
    "\n",
    "#Save the plot to an image(png)\n",
    "plt.savefig('plot_2.png',  dpi='figure', bbox_inches='tight')\n",
    "\n",
    "plt.show()"
   ]
  },
  {
   "cell_type": "markdown",
   "metadata": {
    "id": "VaD3C3NY8FLF"
   },
   "source": [
    "4- Tree Maintenance Status Map\n",
    "\n",
    "Input:\n",
    "\n",
    "            Fulcrum ([TMO] combined inventories)\n",
    "Output:\n",
    "\n",
    "            Status\n",
    "            unsuitable trees\n",
    "            total trees\n",
    "\n",
    "page 16"
   ]
  },
  {
   "cell_type": "code",
   "execution_count": null,
   "metadata": {
    "colab": {
     "base_uri": "https://localhost:8080/"
    },
    "id": "lMZt7ydwK-4h",
    "outputId": "80340405-1f0f-4245-de9a-53f6716f680e"
   },
   "outputs": [],
   "source": [
    "testKKR['status'].unique()"
   ]
  },
  {
   "cell_type": "code",
   "execution_count": null,
   "metadata": {
    "colab": {
     "base_uri": "https://localhost:8080/",
     "height": 1000
    },
    "id": "CtUj7lqHK8-D",
    "outputId": "a71da50a-2fe7-43c6-efc1-e8f02a6eb62b"
   },
   "outputs": [],
   "source": [
    "#Create a dict of colors for eaach value in status column\n",
    "color_dict = {'No action required': 'limegreen', 'Request of activation': 'orangered','Issue in place':'red'}\n",
    "# todo: this needs to be dynamic as the data will always vary between projects and different points in time. \n",
    "\n",
    "#Map the color_dict values to the testKKRKSR[\"status\"] to be correctly mapped on the map\n",
    "testKKR[\"color\"] = testKKR[\"status\"].map(color_dict)\n",
    "\n",
    "#plot data based on the specified testKKRKSR['status']\n",
    "fig, ax = plt.subplots(figsize=(15, 15))\n",
    "testKKR.plot(ax=ax, color=testKKR[\"color\"], legend=True, markersize=0.1)\n",
    "#Riyadhboundarygdf.to_crs(epsg=3857).plot(edgecolor=\"black\", facecolor=\"none\", ax=ax)\n",
    "\n",
    "#add a basemap and remove axis\n",
    "source = 'https://server.arcgisonline.com/ArcGIS/rest/services/World_Imagery/MapServer/tile/{z}/{y}/{x}'\n",
    "ctx.add_basemap(ax, source=source)\n",
    "ax.axis('off')\n",
    "\n",
    "#Calculate values counts and sort them by order Desc\n",
    "counts = testKKR['status'].value_counts()\n",
    "sorted_labels = sorted(color_dict.keys(), key=lambda label: counts[label], reverse=True)  # Sort by counts in descending order\n",
    "\n",
    "# Customize legend labels with counts\n",
    "labels = [f\"{label} ({counts[label]})\" for label in sorted_labels]\n",
    "handles = [plt.Rectangle((0, 0), 1, 1, color=color) for color in color_dict.values()]\n",
    "\n",
    "#add legend title and plot it\n",
    "legend_title = \"LEGEND \\n\"\n",
    "plt.legend(handles, labels, title=legend_title, bbox_to_anchor=(1, 1))\n",
    "#legend_text = f\"Total Trees: {testKKR.shape[0]}\\n\" + \"\\n\".join(labels)\n",
    "\n",
    "# add a map title\n",
    "plt.title(\"Masterplan Current Status \\n KKR\", size=18)\n",
    "\n",
    "#Save the plot to an image(png)\n",
    "plt.savefig('plot_3.png',  dpi='figure', bbox_inches='tight')\n",
    "\n",
    "plt.show()"
   ]
  },
  {
   "cell_type": "markdown",
   "metadata": {
    "id": "1CzODflFBmbH"
   },
   "source": [
    "Extra - 7 - Masterplan Tree CLasses\n",
    "\n",
    "\n",
    "\n",
    "Input:\n",
    "\n",
    "            Fulcrum data ([TMO] combined tree inventory)\n",
    "\n",
    "Output:\n",
    "\n",
    "            Palm trees\n",
    "\n",
    "            Shade trees"
   ]
  },
  {
   "cell_type": "code",
   "execution_count": null,
   "metadata": {
    "colab": {
     "base_uri": "https://localhost:8080/",
     "height": 1000
    },
    "id": "p0K21rV9z2To",
    "outputId": "f96d2714-2d4e-4c9a-9515-462b2d9239b3"
   },
   "outputs": [],
   "source": [
    "#Create a dict of colors for eaach value in ClASS column\n",
    "color_dict = {'Shade': 'turquoise', 'Palm': 'deeppink','Not identified':'grey'}\n",
    "\n",
    "#Map the color_dict values to the testKKRKSR[\"Class\"] to be correctly mapped on the map\n",
    "testKKR[\"color\"] = testKKR[\"Class\"].map(color_dict)\n",
    "# todo: this needs to be dynamic as the data will always vary between projects and different points in time. \n",
    "\n",
    "#plot data based on the specified testKKRKSR['status']\n",
    "fig, ax = plt.subplots(figsize=(15, 15))\n",
    "testKKR.plot(ax=ax, color=testKKR[\"color\"], legend=True, markersize=0.1)\n",
    "#Riyadhboundarygdf.to_crs(epsg=3857).plot(edgecolor=\"black\", facecolor=\"none\", ax=ax)\n",
    "\n",
    "#add a basemap and remove axis\n",
    "source = 'https://server.arcgisonline.com/ArcGIS/rest/services/World_Imagery/MapServer/tile/{z}/{y}/{x}'\n",
    "ctx.add_basemap(ax, source=source)\n",
    "ax.axis('off')\n",
    "\n",
    "#Calculate values counts and sort them by order Desc\n",
    "counts = testKKR['Class'].value_counts()\n",
    "sorted_labels = sorted(color_dict.keys(), key=lambda label: counts[label], reverse=True)  # Sort by counts in descending order\n",
    "\n",
    "# Customize legend labels with counts and create handles\n",
    "labels = [f\"{label} ({counts[label]})\" for label in sorted_labels]\n",
    "handles = [plt.Rectangle((0, 0), 1, 1, color=color) for color in color_dict.values()]\n",
    "\n",
    "#add legend title and plot it\n",
    "legend_title = \"LEGEND \\n\"\n",
    "legend_text = f\"Total Trees: {testKKR.shape[0]}\\n\" + \"\\n\".join(labels)\n",
    "plt.legend(handles, labels, title=legend_title, bbox_to_anchor=(1, 1))\n",
    "\n",
    "# add a mp title\n",
    "plt.title(\"Masterplan Current Class \\n KKR\", size=18)\n",
    "\n",
    "#Save the plot to an image(png)\n",
    "plt.savefig('plot_4.png',  dpi='figure', bbox_inches='tight')\n",
    "\n",
    "plt.show()\n"
   ]
  },
  {
   "cell_type": "markdown",
   "metadata": {
    "id": "H_vdiD5sG3vT"
   },
   "source": [
    "5- Tree Health Map: health status for Fulcrum less than 6 months, older than 6 much we used NDVI analysis.\n",
    "\n",
    "Input:\n",
    "\n",
    "            Fulcrum + ML data\n",
    "Output:\n",
    "\n",
    "            Good\n",
    "            Moderate\n",
    "            Poor\n",
    "            Existing trees total\n",
    "            Dead am missing\n",
    "\n",
    "page 17\n",
    "# todo: can you add the final values to the markdown element? "
   ]
  },
  {
   "cell_type": "code",
   "source": [
    "spread = testKKR.copy()\n",
    "# spread.geometry = spread.buffer((spread['spread']/2)) # spread to draw round canopies\n",
    "spread.reset_index(inplace=True, drop=True)\n",
    "\n",
    "# make GEE feature collection from buffered KKSRboundary\n",
    "KKRboxdf32638 = gpd.GeoDataFrame(geometry=pd.DataFrame(KKRboundarygdf.envelope).values.flatten(), crs=32638)\n",
    "KKRboxdf32639 = KKRboxdf32638.dissolve().envelope\n",
    "KKRjson32639 = KKRboxdf32639.to_json()\n",
    "KKRbbox32639 = ee.FeatureCollection(json.loads(KKRjson32639))\n",
    "\n",
    "######################## make GEE feature collection from buffered KKSRboundary bounding box\n",
    "KKRboxdf = gpd.GeoDataFrame(geometry=pd.DataFrame(KKRboundarygdf.envelope).values.flatten(), crs=32638)\n",
    "KKRboxdft = KKRboxdf.dissolve().envelope\n",
    "KKRjsondft = KKRboxdft.to_crs(4326).to_json()\n",
    "KKRbbox4326 = ee.FeatureCollection(json.loads(KKRjsondft))\n",
    "\n",
    "######################## set time frame\n",
    "today = (datetime.today() - timedelta(days=1)).strftime(\"%Y-%m-%d\")  # number of days as a delimiter\n",
    "before = (datetime.today() - timedelta(days=20)).strftime(\"%Y-%m-%d\")  # number of days as a delimiter\n",
    "#days_in_interval = today - before\n",
    "days_in_interval = 20\n",
    "\n",
    "# get Sentinel data\n",
    "collection = (ee.ImageCollection('COPERNICUS/S2_HARMONIZED')\n",
    "              .filterDate(before, today)\n",
    "              .filterBounds(KKRbbox4326.geometry())\n",
    "              .map(lambda image: image.clip(KKRbbox4326.geometry()))\n",
    "              .filter(ee.Filter.lt('CLOUDY_PIXEL_PERCENTAGE', 1))\n",
    "              .map(lambda image: image.normalizedDifference(['B8', 'B4']).rename('ndvi'))\n",
    "              )\n",
    "x1 = str(KKRbbox32639.geometry().getInfo()['coordinates'][0][0]).strip(\"[]\").split(',')[0]\n",
    "y1 = str(KKRbbox32639.geometry().getInfo()['coordinates'][0][1]).strip(\"[]\").split(',')[1]\n",
    "transform = from_origin(float(x1), float(y1), 10, 10)\n",
    "\n",
    "################################### date check\n",
    "a=0\n",
    "imgList = collection.toList(100)\n",
    "for imga in imgList.getInfo():\n",
    "\ta=a+1\n",
    "\tprint(a, imga['properties']['system:index'])\n",
    "\n",
    "##################################### get first image\n",
    "def update_code(collection):\n",
    "    band_names = collection.getInfo()['bands']\n",
    "    new_collection = ee.ImageCollection(\n",
    "        collection.map(lambda image: image.select(band_names).rename('value'))\n",
    "    )\n",
    "    return new_collection\n",
    "\n",
    "collection = update_code(collection)\n",
    "\n",
    "imgfirst = collection.limit(1, 'system:index').first()\n",
    "arrfirst = imgfirst.sampleRectangle(region = KKRbbox4326.geometry())\n",
    "arrndvifirst = arrfirst.get('ndvi')\n",
    "nparrndvifirst = np.array(arrndvifirst.getInfo())\n",
    "nparrndvifirstt = nparrndvifirst.astype(np.float32)\n",
    "\n",
    "new_dataset = rasterio.open('firstimg.tif', 'w', driver='GTiff',\n",
    "                                              height=nparrndvifirstt.size, width=nparrndvifirstt.size,\n",
    "                                              count=1, dtype=str(nparrndvifirstt.dtype), nodata=-99999999,\n",
    "                                              crs=32638)\n",
    "new_dataset.write(np.array([[1,nparrndvifirstt]]), 1)\n",
    "new_dataset.close()\n",
    "\n",
    "########### process first image\n",
    "with rasterio.open(\"firstimg.tif\") as src:\n",
    "\taffine = src.transform\n",
    "\tndval = src.nodatavals[0]\n",
    "\tarray = src.read(1)\n",
    "\tarray = array.astype('float64')\n",
    "\tarray[array==ndval] = np.nan\n",
    "\tdf_zonal_stats = pd.DataFrame(zonal_stats(spread, array, stats='max', affine=affine, nodata=-99999999, all_touched=True))\n",
    "\n",
    "# adding statistics back to original GeoDataFrame\n",
    "zsresults = pd.concat([spread, df_zonal_stats], axis=1)\n",
    "\n",
    "############# NDVI health (new categories due to very negative results, violoating the 0.2 threshold)\n",
    "# todo: we need to check the logic here. Usually the NDVI threshold is 0.2\n",
    "zsresults.loc[(zsresults['max']>=0.5) ,'ndvi_health_cat'] = 'good - جيد'\n",
    "zsresults.loc[(zsresults['max']>=0.3) & (zsresults['max'] < 0.5) ,'ndvi_health_cat'] = 'fair - معتدل'\n",
    "zsresults.loc[(zsresults['max']>0.1) & (zsresults['max'] < 0.3) ,'ndvi_health_cat'] = 'poor - سئ'\n",
    "zsresults.loc[(zsresults['max']<=0.1) ,'ndvi_health_cat'] = 'dead - ميت'\n",
    "zsresults.rename(columns = {'ndvi_health_cat' : 'ndvi_health_cat'+imgfirst.getInfo()['properties']['system:index'].split(\"T\")[0]}, inplace = True)\n",
    "\n",
    "zsresults.loc[(zsresults['max'] >= 0.2) ,'ndvi_health'] = 1\n",
    "zsresults.loc[(zsresults['max'] < 0.2) ,'ndvi_health'] = 0\n",
    "\n",
    "zsresults.rename(columns = {'ndvi_health': 'ndvi_health_' + imgfirst.getInfo()['properties']['system:index'].split(\"T\")[0]}, inplace = True)\n",
    "zsresults.rename(columns = {'max':'max_' + imgfirst.getInfo()['properties']['system:index'].split(\"T\")[0]}, inplace = True)\n",
    "\n",
    "# Process the last image\n",
    "lastimg = collection.limit(1, 'system:index', False).first()\n",
    "arrlast = lastimg.sampleRectangle(region=KKRbbox4326.geometry())\n",
    "arrndvilast = arrlast.get('ndvi')\n",
    "nparrndvilast = np.array(arrndvilast.getInfo())\n",
    "nparrndvilastt = nparrndvilast.astype(np.float32)\n",
    "\n",
    "# Create raster file for the last image\n",
    "new_dataset_last = rasterio.open('lastimg.tif', 'w', driver='GTiff',\n",
    "                                 height=nparrndvilastt.size, width=nparrndvilastt.size,\n",
    "                                 count=1, dtype=nparrndvilastt.dtype, nodata=-99999999,\n",
    "                                 crs=32638)\n",
    "new_dataset_last.write(np.array([[1,nparrndvilastt]]), 1)\n",
    "new_dataset_last.close()\n",
    "\n",
    "\n",
    "############# process last image\n",
    "with rasterio.open(\"lastimg.tif\") as src:\n",
    "\taffine = src.transform\n",
    "\tndval = src.nodatavals[0]\n",
    "\tarray = src.read(1)\n",
    "\tarray = array.astype('float64')\n",
    "\tarray[array==ndval] = np.nan\n",
    "\tdf_zonal_stats = pd.DataFrame(zonal_stats(spread, array, stats='max', affine=affine, nodata=-99999999, all_touched=True))\n",
    "\n",
    "# adding statistics back to original GeoDataFrame\n",
    "zsresults = pd.concat([zsresults, df_zonal_stats], axis=1)\n",
    "\n",
    "################ NDVI health (new categories due to very negative results, violoating the 0.2 threshold)\n",
    "zsresults.loc[(zsresults['max']>=0.5) ,'ndvi_health_cat'] = 'good - جيد'\n",
    "zsresults.loc[(zsresults['max']>=0.3) & (zsresults['max'] < 0.5) ,'ndvi_health_cat'] = 'fair - معتدل'\n",
    "zsresults.loc[(zsresults['max']>0.1) & (zsresults['max'] < 0.3) ,'ndvi_health_cat'] = 'poor - سئ'\n",
    "zsresults.loc[(zsresults['max']<=0.1) ,'ndvi_health_cat'] = 'dead - ميت'\n",
    "\n",
    "zsresults.rename(columns = {'ndvi_health_cat' : 'ndvi_health_cat'+lastimg.getInfo()['properties']['system:index'].split(\"T\")[0]}, inplace = True)\n",
    "\n",
    "zsresults.loc[(zsresults['max'] >= 0.2), 'ndvi_health'] = 1\n",
    "zsresults.loc[(zsresults['max'] < 0.2), 'ndvi_health'] = 0\n",
    "\n",
    "zsresults.rename(columns = {'ndvi_health' : 'ndvi_health_'+lastimg.getInfo()['properties']['system:index'].split(\"T\")[0]}, inplace = True)\n",
    "zsresults.rename(columns = {'max' : 'max_' + lastimg.getInfo()['properties']['system:index'].split(\"T\")[0]}, inplace = True)\n",
    "\n",
    "########################################## diff\n",
    "zsresults['diff'] = zsresults['ndvi_health_'+lastimg.getInfo()['properties']['system:index'].split(\"T\")[0]]-zsresults['ndvi_health_'+imgfirst.getInfo()['properties']['system:index'].split(\"T\")[0]]\n",
    "#print(zsresults['diff'].value_counts())\n",
    "\n",
    "# print(lastimg.getInfo()['properties']['system:index'].split(\"T\")[0])\n",
    "# print(imgfirst.getInfo()['properties']['system:index'].split(\"T\")[0])\n",
    "# print(zsresults['ndvi_health_'+lastimg.getInfo()['properties']['system:index'].split(\"T\")[0]])\n",
    "# print(zsresults['ndvi_health_cat'+lastimg.getInfo()['properties']['system:index'].split(\"T\")[0]].value_counts())\n",
    "\n",
    "\n",
    "# if health older than 6 month use NDVI health\n",
    "zsresults['health_merge'] = zsresults['health']\n",
    "zsresults.loc[(zsresults['health_merge']=='NaN'), 'health_merge'] =  zsresults['ndvi_health_cat' + lastimg.getInfo()['properties']['system:index'].split(\"T\")[0]]\n",
    "zsresults.loc[(zsresults['health_merge'].isna()), 'health_merge'] =  zsresults['ndvi_health_cat' + lastimg.getInfo()['properties']['system:index'].split(\"T\")[0]]\n",
    "\n",
    "####print\n",
    "print(zsresults.value_counts(['health_merge']))\n",
    "print(zsresults.isna().value_counts(['health_merge']))\n",
    "\n",
    "###save to file\n",
    "#zsresults.to_file(r\"/content/drive/MyDrive/BPLA/20230510-DQ-inv-ml-ndvi-health-1.gpkg\", driver='GPKG', layer='DQ-inv-ml-ndvi-volume-corrected-74-2')\n"
   ],
   "metadata": {
    "id": "cR5Az5weJMcV",
    "colab": {
     "base_uri": "https://localhost:8080/",
     "height": 1000
    },
    "outputId": "0437a93b-1c3f-4a3c-da7c-34a654ef5010"
   },
   "execution_count": null,
   "outputs": []
  },
  {
   "cell_type": "code",
   "source": [
    "for i in range(len(zsresults)):\n",
    "    if zsresults.loc[i, 'health_merge'] == 'good - جيد':\n",
    "        zsresults.loc[i, 'health_updated'] = 'Good'\n",
    "    elif zsresults.loc[i, 'health_merge'] == 'fair - معتدل':\n",
    "        zsresults.loc[i, 'health_updated'] = 'Moderate'\n",
    "    elif zsresults.loc[i, 'health_merge'] == 'poor - سئ':\n",
    "        zsresults.loc[i, 'health_updated'] = 'Poor'\n",
    "    elif zsresults.loc[i, 'health_merge'] == 'excellent - ممتاز':\n",
    "        zsresults.loc[i, 'health_updated'] = 'Excellent'\n",
    "    elif zsresults.loc[i, 'health_merge'] == 'dead - ميت':\n",
    "        zsresults.loc[i, 'health_updated'] = 'Dead'\n",
    "    else:\n",
    "        zsresults.loc[i, 'health_updated'] = 'Missing'\n"
   ],
   "metadata": {
    "id": "n1gTZyRGdqTQ"
   },
   "execution_count": null,
   "outputs": []
  },
  {
   "cell_type": "code",
   "source": [
    "zsresults = zsresults.to_crs(epsg=3857)\n",
    "\n",
    "#Create a dict of colors for eaach value in health_updated column\n",
    "color_dict = {'Missing': 'pink', 'Good': 'lime', 'Moderate': 'orange', 'Poor':'red', 'Excellent':'blue', 'Dead':'black' }\n",
    "\n",
    "#Map the color_dict values to the testKKRKSR[\"Class\"] to be correctly mapped on the map\n",
    "zsresults[\"color\"] = zsresults[\"health_updated\"].map(color_dict)\n",
    "\n",
    "#plot data based on the specified testKKRKSR['status']\n",
    "fig, ax = plt.subplots(figsize=(15, 15))\n",
    "zsresults.plot(ax=ax, color=zsresults[\"color\"], legend=True, markersize=0.1)\n",
    "KKRboundarygdf.to_crs(epsg=3857).plot(edgecolor=\"black\", facecolor=\"none\", ax=ax)\n",
    "\n",
    "#add a basemap and remove axis\n",
    "source = 'https://server.arcgisonline.com/ArcGIS/rest/services/World_Imagery/MapServer/tile/{z}/{y}/{x}'\n",
    "ctx.add_basemap(ax, source=source)\n",
    "ax.axis('off')\n",
    "\n",
    "#Calculate values counts and sort them by order Desc\n",
    "counts = zsresults['health_updated'].value_counts()\n",
    "sorted_labels = sorted(color_dict.keys(), key=lambda label: counts[label], reverse=True)  # Sort by counts in descending order\n",
    "\n",
    "# Customize legend labels with counts and create handles\n",
    "labels = [f\"{label} ({counts[label]})\" for label in sorted_labels]\n",
    "handles = [plt.Rectangle((0, 0), 1, 1, color=color) for color in color_dict.values()]\n",
    "\n",
    "#add legend title and plot it\n",
    "legend_title = \"LEGEND \\n\"\n",
    "legend_text = f\"Total Trees: {zsresults.shape[0]}\\n\" + \"\\n\".join(labels)\n",
    "plt.legend(handles, labels, title=legend_title, bbox_to_anchor=(1, 1))\n",
    "\n",
    "# add a mp title\n",
    "plt.title(\"Masterplan NDVI Health map \\n KKR\", size=18)\n",
    "\n",
    "#Save the plot to an image(png)\n",
    "plt.savefig('plot_6.png',  dpi='figure', bbox_inches='tight')\n",
    "\n",
    "plt.show()\n"
   ],
   "metadata": {
    "colab": {
     "base_uri": "https://localhost:8080/",
     "height": 1000
    },
    "id": "aamefgLYNeks",
    "outputId": "35ffe276-ba27-4a17-9ac2-052cc149d483"
   },
   "execution_count": null,
   "outputs": []
  },
  {
   "cell_type": "markdown",
   "metadata": {
    "id": "0SEWzMk4yDxD"
   },
   "source": [
    "6- Tree Canopy Change Alert Map\n",
    "\n",
    "Input:\n",
    "\n",
    "           Fulcrum + ML data\n",
    "Output:\n",
    "\n",
    "          Total number of trees\n",
    "          Total number of TBR\n",
    "          Total number of existing trees\n",
    "\n",
    "          No change detected\n",
    "          Expansion detected\n",
    "          Deterioration Detected\n",
    "\n",
    "page 18"
   ]
  },
  {
   "cell_type": "code",
   "execution_count": null,
   "metadata": {
    "id": "7KPW6K_0Pq5O",
    "colab": {
     "base_uri": "https://localhost:8080/",
     "height": 1000
    },
    "outputId": "14f6f7f0-af69-4ca1-9170-ca4117c76cf7"
   },
   "outputs": [],
   "source": [
    "for i in range(len(zsresults)):\n",
    "    if zsresults.iloc[i]['diff'] == 0:\n",
    "        zsresults.loc[i, 'comparisondiff'] = 'No change'\n",
    "    elif zsresults.iloc[i]['diff'] > 0:\n",
    "        zsresults.loc[i, 'comparisondiff'] = 'Growth'\n",
    "    else:\n",
    "        zsresults.loc[i, 'comparisondiff'] = 'Deterioration'\n",
    "\n",
    "\n",
    "#Save the plot to an image(png)\n",
    "plt.savefig('plot_9.png', dpi=300)\n",
    "\n",
    "#Plot the map\n",
    "plot_map(zsresults, KKRboundarygdf, 'comparisondiff','Tree NDVI Change Map','plot_10.png')\n"
   ]
  },
  {
   "cell_type": "markdown",
   "metadata": {
    "id": "erpR27bYFoBM"
   },
   "source": [
    "# Draw them in a pdf report"
   ]
  },
  {
   "cell_type": "code",
   "execution_count": null,
   "outputs": [],
   "source": [
    "w, h = A4\n",
    "pdf = canvas.Canvas('plots.pdf', pagesize=A4) #letter\n",
    "\n",
    "for i in range(5):\n",
    "  image_path = f'plot_{i}.png'\n",
    "  pdf.drawImage(f'plot_{i}.png', 10, h-500, width=550, height=500)\n",
    "  pdf.showPage()\n",
    "\n",
    "pdf.save()\n",
    "# todo: this works but the plots are distorted\n",
    "# todo: add a scalebar and north arrow\n",
    "# todo: do the colour match jessicas HEX codes?\n"
   ],
   "metadata": {
    "collapsed": false
   }
  },
  {
   "cell_type": "code",
   "source": [],
   "metadata": {
    "id": "1-qnnzmoUNvD"
   },
   "execution_count": null,
   "outputs": []
  }
 ],
 "metadata": {
  "colab": {
   "machine_shape": "hm",
   "provenance": [],
   "collapsed_sections": [
    "a1VmA54aBrJF",
    "JjcUDAVSVfwx"
   ]
  },
  "kernelspec": {
   "name": "python3",
   "language": "python",
   "display_name": "Python 3 (ipykernel)"
  },
  "language_info": {
   "codemirror_mode": {
    "name": "ipython",
    "version": 2
   },
   "file_extension": ".py",
   "mimetype": "text/x-python",
   "name": "python",
   "nbconvert_exporter": "python",
   "pygments_lexer": "ipython2",
   "version": "2.7.6"
  }
 },
 "nbformat": 4,
 "nbformat_minor": 0
}
